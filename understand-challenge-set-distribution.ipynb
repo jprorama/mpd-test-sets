{
 "cells": [
  {
   "cell_type": "markdown",
   "metadata": {},
   "source": [
    "# Understand Challenge Set Distribution\n",
    "\n",
    "Determine the distribution of playlist data attributes in the recsys18 challenge dataset.\n",
    "\n",
    "Need to know what the profile of unknown playlists are so we can build a representantive dataset \n",
    "from the MPD training set.\n",
    "\n",
    "The challenge data set is 10x1000 playslists.\n",
    "There is no info header describing the file as in the mpd slice files, just the playlist dictionary.\n",
    "Each playlist has a tracks dictionary that may be empty.\n",
    "Each playlist has a 'num_samples: \"x\"' parameter where x is 0,5,10,25,100 to match the challenge category.\n",
    "For the title-only playists 'num_samples: \"0\"' and there are no tracks in tracks dictionary.\n",
    "For the title a no-title variations there is either a title attribute or there is not.\n",
    "The num_samples + num_holdouts = num_tracks, which is the lenght of the orignal playlist.\n",
    "The track entries lists tracks as in the original mpd data set and includes position.\n",
    "Position is always 0 through num_samples-1 for the sequential seeds.\n",
    "Position appears to be 0 through num_tracks with some number of drop-outs for the random samples.\n",
    "That is, the sampling appears to drop out the tracks throughout the playlist.\n",
    "This means the recommenders should have a rich embedding and are just filling in small holes."
   ]
  },
  {
   "cell_type": "code",
   "execution_count": null,
   "metadata": {},
   "outputs": [],
   "source": [
    "import sys\n",
    "import json\n",
    "import re\n",
    "import collections\n",
    "import os\n",
    "import datetime"
   ]
  },
  {
   "cell_type": "code",
   "execution_count": null,
   "metadata": {},
   "outputs": [],
   "source": [
    "import pandas as pd\n",
    "import numpy as np"
   ]
  },
  {
   "cell_type": "markdown",
   "metadata": {},
   "source": [
    "## Use Pandas to Explore Challenge Structure\n",
    "\n",
    "Pandas provides lots convenience routines and data frame that is easily constructed and queried.\n",
    "\n",
    "Follow this recipe to load the data and split the results into a table for playlists and tracks.\n",
    "https://towardsdatascience.com/how-to-convert-json-into-a-pandas-dataframe-100b2ae1e0d8"
   ]
  },
  {
   "cell_type": "code",
   "execution_count": null,
   "metadata": {},
   "outputs": [],
   "source": [
    "# load data using Python JSON module\n",
    "with open('data/challenge_set.json','r') as f:\n",
    "    data = json.loads(f.read())"
   ]
  },
  {
   "cell_type": "code",
   "execution_count": null,
   "metadata": {},
   "outputs": [],
   "source": [
    "# Flatten data\n",
    "playlists = pd.json_normalize(data, record_path=['playlists'])"
   ]
  },
  {
   "cell_type": "code",
   "execution_count": null,
   "metadata": {},
   "outputs": [],
   "source": [
    "playlists"
   ]
  },
  {
   "cell_type": "code",
   "execution_count": null,
   "metadata": {},
   "outputs": [],
   "source": [
    "tracks = pd.json_normalize(data['playlists'], record_path=['tracks'], meta=['pid'])"
   ]
  },
  {
   "cell_type": "code",
   "execution_count": null,
   "metadata": {},
   "outputs": [],
   "source": [
    "tracks"
   ]
  },
  {
   "cell_type": "markdown",
   "metadata": {},
   "source": [
    "## Gather stats on each challenge subtype\n",
    "\n",
    "### Title Only\n",
    "\n",
    "The source playlist lenth of the title only seeds range from 10-50 tracks, with each length represented fairly evenly.  "
   ]
  },
  {
   "cell_type": "code",
   "execution_count": null,
   "metadata": {},
   "outputs": [],
   "source": [
    "playlists[0:1000].hist( column=\"num_tracks\", bins=41)"
   ]
  },
  {
   "cell_type": "code",
   "execution_count": null,
   "metadata": {},
   "outputs": [],
   "source": [
    "playlists[0:1000].num_tracks.sort_values()"
   ]
  },
  {
   "cell_type": "code",
   "execution_count": null,
   "metadata": {},
   "outputs": [],
   "source": [
    "len(playlists[0:1000].num_tracks.sort_values())"
   ]
  },
  {
   "cell_type": "code",
   "execution_count": null,
   "metadata": {},
   "outputs": [],
   "source": [
    "np.sort(playlists[0:999].num_tracks.unique())"
   ]
  },
  {
   "cell_type": "code",
   "execution_count": null,
   "metadata": {},
   "outputs": [],
   "source": [
    "len(np.sort(playlists[0:1000].num_tracks.unique()))"
   ]
  },
  {
   "cell_type": "code",
   "execution_count": null,
   "metadata": {},
   "outputs": [],
   "source": [
    "histvals = playlists[0:1000].num_tracks.value_counts(bins=40) #.plot(kind='hist')"
   ]
  },
  {
   "cell_type": "code",
   "execution_count": null,
   "metadata": {},
   "outputs": [],
   "source": [
    "histvals"
   ]
  },
  {
   "cell_type": "code",
   "execution_count": null,
   "metadata": {},
   "outputs": [],
   "source": [
    "histvals.hist(bins=40)"
   ]
  },
  {
   "cell_type": "markdown",
   "metadata": {},
   "source": [
    "### 5 Seed with Title"
   ]
  },
  {
   "cell_type": "code",
   "execution_count": null,
   "metadata": {},
   "outputs": [],
   "source": [
    "playlists[1000:1001]"
   ]
  },
  {
   "cell_type": "code",
   "execution_count": null,
   "metadata": {},
   "outputs": [],
   "source": [
    "playlists[1000:2000].hist( column=\"num_tracks\", bins=100)"
   ]
  },
  {
   "cell_type": "code",
   "execution_count": null,
   "metadata": {},
   "outputs": [],
   "source": [
    "playlists[1000:2000].num_tracks.max()"
   ]
  },
  {
   "cell_type": "markdown",
   "metadata": {},
   "source": [
    "### 5 Seed without Title"
   ]
  },
  {
   "cell_type": "code",
   "execution_count": null,
   "metadata": {},
   "outputs": [],
   "source": [
    "playlists[2000:2001]"
   ]
  },
  {
   "cell_type": "code",
   "execution_count": null,
   "metadata": {},
   "outputs": [],
   "source": [
    "playlists[2000:3000].hist( column=\"num_tracks\", bins=100)"
   ]
  },
  {
   "cell_type": "code",
   "execution_count": null,
   "metadata": {},
   "outputs": [],
   "source": [
    "playlists[2000:3000].num_tracks.max()"
   ]
  },
  {
   "cell_type": "markdown",
   "metadata": {},
   "source": [
    "### 10 Seed with Title"
   ]
  },
  {
   "cell_type": "code",
   "execution_count": null,
   "metadata": {},
   "outputs": [],
   "source": [
    "playlists[3000:3001]"
   ]
  },
  {
   "cell_type": "code",
   "execution_count": null,
   "metadata": {},
   "outputs": [],
   "source": [
    "playlists[3000:4000].hist( column=\"num_tracks\", bins=100)"
   ]
  },
  {
   "cell_type": "markdown",
   "metadata": {},
   "source": [
    "### 10 Seed without Title"
   ]
  },
  {
   "cell_type": "code",
   "execution_count": null,
   "metadata": {},
   "outputs": [],
   "source": [
    "playlists[4000:4001]"
   ]
  },
  {
   "cell_type": "code",
   "execution_count": null,
   "metadata": {},
   "outputs": [],
   "source": [
    "playlists[4000:5000].hist( column=\"num_tracks\", bins=100)"
   ]
  },
  {
   "cell_type": "markdown",
   "metadata": {},
   "source": [
    "### 25 Seed with Title"
   ]
  },
  {
   "cell_type": "code",
   "execution_count": null,
   "metadata": {},
   "outputs": [],
   "source": [
    "playlists[5000:5001]"
   ]
  },
  {
   "cell_type": "code",
   "execution_count": null,
   "metadata": {},
   "outputs": [],
   "source": [
    "tracks[tracks.pid == 1000001].head()"
   ]
  },
  {
   "cell_type": "code",
   "execution_count": null,
   "metadata": {},
   "outputs": [],
   "source": [
    "playlists[5000:6000].hist( column=\"num_tracks\", bins=100)"
   ]
  },
  {
   "cell_type": "markdown",
   "metadata": {},
   "source": [
    "### 25 Rand with Title"
   ]
  },
  {
   "cell_type": "code",
   "execution_count": null,
   "metadata": {},
   "outputs": [],
   "source": [
    "playlists[6000:6001]"
   ]
  },
  {
   "cell_type": "code",
   "execution_count": null,
   "metadata": {},
   "outputs": [],
   "source": [
    "tracks[tracks.pid == 1007147].head()"
   ]
  },
  {
   "cell_type": "code",
   "execution_count": null,
   "metadata": {},
   "outputs": [],
   "source": [
    "playlists[6000:7000].hist( column=\"num_tracks\", bins=100)"
   ]
  },
  {
   "cell_type": "markdown",
   "metadata": {},
   "source": [
    "### 100 Seed with Title"
   ]
  },
  {
   "cell_type": "code",
   "execution_count": null,
   "metadata": {},
   "outputs": [],
   "source": [
    "playlists[7000:7001]"
   ]
  },
  {
   "cell_type": "code",
   "execution_count": null,
   "metadata": {},
   "outputs": [],
   "source": [
    "tracks[tracks.pid == 1010382].head()"
   ]
  },
  {
   "cell_type": "code",
   "execution_count": null,
   "metadata": {},
   "outputs": [],
   "source": [
    "playlists[7000:8000].hist( column=\"num_tracks\", bins=100)"
   ]
  },
  {
   "cell_type": "markdown",
   "metadata": {},
   "source": [
    "### 100 Rand with Title"
   ]
  },
  {
   "cell_type": "code",
   "execution_count": null,
   "metadata": {},
   "outputs": [],
   "source": [
    "playlists[8000:8001]"
   ]
  },
  {
   "cell_type": "code",
   "execution_count": null,
   "metadata": {},
   "outputs": [],
   "source": [
    "tracks[tracks.pid == 1018569].head()"
   ]
  },
  {
   "cell_type": "code",
   "execution_count": null,
   "metadata": {},
   "outputs": [],
   "source": [
    "playlists[8000:8999].hist( column=\"num_tracks\", bins=100)"
   ]
  },
  {
   "cell_type": "markdown",
   "metadata": {},
   "source": [
    "### 1 Seed with Title"
   ]
  },
  {
   "cell_type": "code",
   "execution_count": null,
   "metadata": {},
   "outputs": [],
   "source": [
    "playlists[9000:9001]"
   ]
  },
  {
   "cell_type": "code",
   "execution_count": null,
   "metadata": {},
   "outputs": [],
   "source": [
    "playlists[9000:9999].hist( column=\"num_tracks\", bins=100)"
   ]
  },
  {
   "cell_type": "code",
   "execution_count": null,
   "metadata": {},
   "outputs": [],
   "source": [
    "playlists[9000:9999]"
   ]
  },
  {
   "cell_type": "markdown",
   "metadata": {},
   "source": [
    "### Total num_tracks distribution across all challenge playlist"
   ]
  },
  {
   "cell_type": "code",
   "execution_count": null,
   "metadata": {},
   "outputs": [],
   "source": [
    "playlists[0:10000].hist( column=\"num_tracks\", bins=240)"
   ]
  },
  {
   "cell_type": "code",
   "execution_count": null,
   "metadata": {},
   "outputs": [],
   "source": [
    "np.sort(playlists[0:10000].num_tracks.unique())"
   ]
  },
  {
   "cell_type": "code",
   "execution_count": null,
   "metadata": {},
   "outputs": [],
   "source": [
    "len(np.sort(playlists[0:10000].num_tracks.unique()))"
   ]
  },
  {
   "cell_type": "code",
   "execution_count": null,
   "metadata": {},
   "outputs": [],
   "source": [
    "playlists[0:10000].num_tracks.value_counts()"
   ]
  },
  {
   "cell_type": "markdown",
   "metadata": {},
   "source": [
    "## Conclusions\n",
    "\n",
    "- the distribution for 0-seed, 5-seed-title, and 1-seed are all unique.\n",
    "- the distribution for 5-notitle, 10-seed, and 10-notitle are roughly the same.\n",
    "- the distribution for 25-seed and 25-rand are the same\n",
    "- the distribution for 100-seed and 100-rand are the same\n",
    "\n",
    "need to show the histograms in a 5x2 image plot.\n",
    "\n",
    "but i can use these counts and the range of min max playlists in each of categories to select random playlists.\n",
    "\n",
    "rather than making this super difficult I could just sum up all the distributions and select an equivalent count for each num_tracks.\n",
    "then i can split those up according to the distribution overall.\n",
    "\n",
    "can also compare how the challenge distribution compares to the entire mpd.\n",
    "\n",
    "now that i have the challenge data set analyzed need to get back to parsing the full mpd.\n",
    "how best to pull out my 10k test set from the 1mil list?\n",
    "\n",
    "I can select the random filter method i used before to get a much smaller training set.\n",
    "but this is a bit different, i want to keep selecting random from the values that appear in the challenge set.\n",
    "\n",
    "looking at the unique num_tracks, each num_tracks from 10-250 is represented.\n",
    "just at different selection densities.\n",
    "so if i just randomly select according to the count of the distribution i should be good.\n",
    "\n",
    "\n"
   ]
  }
 ],
 "metadata": {
  "language_info": {
   "name": "python",
   "pygments_lexer": "ipython3"
  }
 },
 "nbformat": 4,
 "nbformat_minor": 4
}
