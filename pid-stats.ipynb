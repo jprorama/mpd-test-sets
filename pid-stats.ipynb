{
 "cells": [
  {
   "cell_type": "markdown",
   "metadata": {},
   "source": [
    "# Report Memory Used During Notebook Run\n",
    "\n",
    "Creates a plot of the memory used during a notebook run. It expects to read the pidstat file output, ideally started at the launch of the notebook.  It then collectes the resident set size bytes consumed\n",
    "by the notebook python kernel process."
   ]
  },
  {
   "cell_type": "code",
   "execution_count": null,
   "metadata": {},
   "outputs": [],
   "source": [
    "import sys\n",
    "import json\n",
    "import re\n",
    "import collections\n",
    "import os\n",
    "import datetime\n",
    "import pandas as pd\n",
    "import numpy as np\n",
    "import math\n",
    "import matplotlib.pyplot as plt\n",
    "import seaborn as sns\n",
    "import time\n",
    "import pickle"
   ]
  },
  {
   "cell_type": "code",
   "execution_count": null,
   "metadata": {
    "tags": [
     "parameters"
    ]
   },
   "outputs": [],
   "source": [
    "statfile = \"results/s/nn-ae-noexplore_mympd-full_hw-base-ascend__cpu/pidstat-13026961.out\""
   ]
  },
  {
   "cell_type": "code",
   "execution_count": null,
   "metadata": {},
   "outputs": [],
   "source": [
    "pidstats = []\n",
    "\n",
    "with open(statfile) as file:\n",
    "    for line in file:\n",
    "        if (re.search(r'^Linux', line)):\n",
    "            continue;\n",
    "        if (re.search(r'^$', line)):\n",
    "            continue;\n",
    "        if (re.search(r'^#', line)):\n",
    "            continue;\n",
    "        # Time   UID       PID    %usr %system  %guest    %CPU   CPU  minflt/s  majflt/s\n",
    "        # VSZ    RSS   %MEM   kB_rd/s   kB_wr/s kB_ccwr/s  Command\n",
    "        #stat = re.split(r'\\w+', line)\n",
    "        stat = line.split()\n",
    "        #print(stat)\n",
    "        pidstats.append({\n",
    "            \"time\": int(stat[0]),\n",
    "            \"rss\": int(stat[11]),\n",
    "            \"kB_rd/s\": float(stat[13]),\n",
    "            \"kb_wr/s\": float(stat[14])\n",
    "                        })\n",
    "        \n",
    "pidstats = pd.DataFrame(pidstats)"
   ]
  },
  {
   "cell_type": "code",
   "execution_count": null,
   "metadata": {},
   "outputs": [],
   "source": [
    "pidstats"
   ]
  },
  {
   "cell_type": "code",
   "execution_count": null,
   "metadata": {},
   "outputs": [],
   "source": [
    "pidstats[\"time\"] = pd.to_datetime(pidstats[\"time\"], unit=\"s\")"
   ]
  },
  {
   "cell_type": "code",
   "execution_count": null,
   "metadata": {},
   "outputs": [],
   "source": [
    "pidstats"
   ]
  },
  {
   "cell_type": "code",
   "execution_count": null,
   "metadata": {},
   "outputs": [],
   "source": [
    "ax = pidstats.plot(x=\"time\", y=\"rss\", title=\"RAM used by Notebook\", legend=False)\n",
    "ax.set_xlabel(\"DateTime\")\n",
    "ax.set_ylabel(\"RSS in Bytes\")"
   ]
  }
 ],
 "metadata": {
  "language_info": {
   "name": "python",
   "pygments_lexer": "ipython3"
  }
 },
 "nbformat": 4,
 "nbformat_minor": 4
}
