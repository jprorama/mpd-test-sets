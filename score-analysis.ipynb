{
 "cells": [
  {
   "cell_type": "markdown",
   "metadata": {},
   "source": [
    "## Score challenge submission\n",
    "\n",
    "This notebook produces scores for a custom challenge set.  It scores each tasks and provides a summary score (average).\n",
    "\n",
    "This is designed to help compare the quality of a solution against a challenge set under our control and demonstrate that the aicrowd score is consistent."
   ]
  },
  {
   "cell_type": "code",
   "execution_count": null,
   "metadata": {},
   "outputs": [],
   "source": [
    "import sys\n",
    "import json\n",
    "import re\n",
    "import collections\n",
    "import os\n",
    "import datetime\n",
    "import pandas as pd\n",
    "import numpy as np"
   ]
  },
  {
   "cell_type": "code",
   "execution_count": null,
   "metadata": {},
   "outputs": [],
   "source": [
    "challenge=\"ex2-from-21k-train-with-pids\"\n",
    "submitdir=\"/home/jpr/projects/mpd-challenge-aicrowd/\"\n",
    "#submissionfile=\"method-02-mympd-2nd-21k-2021-11-07.csv.gz\"\n",
    "submissionfile=\"method-01-mympd-2nd-21k-2021-11-14.csv.gz\""
   ]
  },
  {
   "cell_type": "markdown",
   "metadata": {},
   "source": [
    "### Load the no holdouts challenge set"
   ]
  },
  {
   "cell_type": "code",
   "execution_count": null,
   "metadata": {},
   "outputs": [],
   "source": [
    "with open('data/{}/challenge_set_noholdout.json'.format(challenge),'r') as f:\n",
    "    data = json.loads(f.read())"
   ]
  },
  {
   "cell_type": "code",
   "execution_count": null,
   "metadata": {},
   "outputs": [],
   "source": [
    "noholdout = pd.json_normalize(data,\"playlists\")"
   ]
  },
  {
   "cell_type": "code",
   "execution_count": null,
   "metadata": {},
   "outputs": [],
   "source": [
    "noholdout"
   ]
  },
  {
   "cell_type": "markdown",
   "metadata": {},
   "source": [
    "### Load challenge submission`"
   ]
  },
  {
   "cell_type": "code",
   "execution_count": null,
   "metadata": {},
   "outputs": [],
   "source": [
    "rectracks=pd.read_csv('{}/{}'.format(submitdir, submissionfile), header=None, skiprows=1, index_col=0)\n"
   ]
  },
  {
   "cell_type": "markdown",
   "metadata": {},
   "source": [
    "Make sure the pids match those of the challenge set.  In the case of mympd the pid range starts at 200000 and goes up in sequence of noholdout data set."
   ]
  },
  {
   "cell_type": "code",
   "execution_count": null,
   "metadata": {},
   "outputs": [],
   "source": [
    "rectracks.head()"
   ]
  },
  {
   "cell_type": "code",
   "execution_count": null,
   "metadata": {},
   "outputs": [],
   "source": [
    "rectracks = rectracks.sort_values(by=0, axis='index')"
   ]
  },
  {
   "cell_type": "code",
   "execution_count": null,
   "metadata": {},
   "outputs": [],
   "source": [
    "rectracks.head()"
   ]
  },
  {
   "cell_type": "markdown",
   "metadata": {},
   "source": [
    "## convert the noholdouts into track lists"
   ]
  },
  {
   "cell_type": "code",
   "execution_count": null,
   "metadata": {},
   "outputs": [],
   "source": [
    "startpid=2000000"
   ]
  },
  {
   "cell_type": "code",
   "execution_count": null,
   "metadata": {},
   "outputs": [],
   "source": [
    "[track[\"track_uri\"] for track in noholdout.iloc[0].tracks[0:2]]"
   ]
  },
  {
   "cell_type": "code",
   "execution_count": null,
   "metadata": {},
   "outputs": [],
   "source": [
    "[track[\"track_uri\"] for track in noholdout.iloc[0].tracks]"
   ]
  },
  {
   "cell_type": "code",
   "execution_count": null,
   "metadata": {},
   "outputs": [],
   "source": [
    "noholdout.iloc[0]"
   ]
  },
  {
   "cell_type": "code",
   "execution_count": null,
   "metadata": {},
   "outputs": [],
   "source": [
    "len(noholdout)"
   ]
  },
  {
   "cell_type": "markdown",
   "metadata": {},
   "source": [
    "R-precision is the fraction of correctly recommended tracks in the ground truth playlist as described on [the challenge site](https://www.aicrowd.com/challenges/spotify-million-playlist-dataset-challenge#evaluation)\n",
    "    \n",
    "\n",
    "Use the [r-precesion calculation from the hello_world metrics](https://github.com/jprorama/spotify_recSys_challenge_2018/blob/f33d82715190a20fdbc998c9ff709bcabd62a55e/utils/metrics.py#L26)"
   ]
  },
  {
   "cell_type": "code",
   "execution_count": null,
   "metadata": {},
   "outputs": [],
   "source": [
    "def get_r_precision(answer, cand):\n",
    "    set_answer = set(answer)\n",
    "    r = len(set_answer&set(cand[:len(set_answer)])) / len(set_answer)\n",
    "    return r\n",
    "\n",
    "def get_ndcg(answer, cand):\n",
    "    cand_len = len(cand) \n",
    "    idcg=0\n",
    "    dcg=0\n",
    "    \n",
    "    #print(\"cand len {}\".format(cand_len))\n",
    "    #print(\"ans len {}\".format(len(answer)))\n",
    "    #print(\"cand: {}\".format(cand))\n",
    "    \n",
    "    for i in range(cand_len):\n",
    "        #print(\"i {}\".format(i))\n",
    "        #print(\"cand {}\".format(cand[i]))\n",
    "        if cand[i] in answer: \n",
    "            dcg += (1/math.log(i+1+1,2))\n",
    "\n",
    "    for i in range(len(set(answer))):\n",
    "        idcg += (1/math.log(i+1+1,2))\n",
    "    \n",
    "    return dcg/idcg"
   ]
  },
  {
   "cell_type": "code",
   "execution_count": null,
   "metadata": {},
   "outputs": [],
   "source": [
    "[track[\"track_uri\"] for track in noholdout.iloc[0].tracks]"
   ]
  },
  {
   "cell_type": "code",
   "execution_count": null,
   "metadata": {},
   "outputs": [],
   "source": [
    "rectracks.iloc[0].to_list()"
   ]
  },
  {
   "cell_type": "code",
   "execution_count": null,
   "metadata": {},
   "outputs": [],
   "source": [
    "import math"
   ]
  },
  {
   "cell_type": "code",
   "execution_count": null,
   "metadata": {},
   "outputs": [],
   "source": [
    "realtracks=pd.DataFrame()\n",
    "rprec_sum = 0.0\n",
    "ndcg_sum = 0.0\n",
    "rprec_match = 0\n",
    "ndcg_match = 0\n",
    "\n",
    "for i in range(len(noholdout)):\n",
    "    pid = startpid + i\n",
    "    gttracks = [track[\"track_uri\"] for track in noholdout.iloc[i].tracks]\n",
    "    candtracks = rectracks.iloc[i].to_list()\n",
    "    rprec = get_r_precision(gttracks, candtracks)\n",
    "    rprec_sum = rprec_sum + rprec\n",
    "    if rprec > 0:\n",
    "        rprec_match += 1\n",
    "    ndcg = get_ndcg(gttracks, candtracks)\n",
    "    ndcg_sum = ndcg_sum + ndcg\n",
    "    if ndcg > 0:\n",
    "        ndcg_match += 1\n",
    "    \n",
    "print(\"rprec = {}\".format(rprec_sum/len(noholdout)))\n",
    "print(\"ndcg = {}\".format(ndcg_sum/len(noholdout)))\n",
    "print(\"rprec_match = {}\".format(rprec_match))\n",
    "print(\"ndcg_match = {}\".format(ndcg_match))"
   ]
  },
  {
   "cell_type": "code",
   "execution_count": null,
   "metadata": {},
   "outputs": [],
   "source": [
    "realtracks=pd.DataFrame()\n",
    "rprec_sum = 0.0\n",
    "successes = 0\n",
    "\n",
    "numplaylists = len(noholdout)\n",
    "numplaylists = 2\n",
    "\n",
    "for i in range(numplaylists):\n",
    "    pid = startpid + i;\n",
    "    gtlen=len(noholdout.iloc[i].tracks)\n",
    "    gttracks = [track[\"track_uri\"] for track in noholdout.iloc[i].tracks[0:gtlen]]\n",
    "    gtset = set(gttracks)\n",
    "    recset = set(rectracks.iloc[i][0:gtlen])\n",
    "    rprec = len(gtset & recset)/gtlen\n",
    "    if rprec >= 0:\n",
    "        successes += 1\n",
    "        #print(\"gt:  {}: {}\".format(pid, \",\".join(gttracks)))\n",
    "        #print(\"rec: {}: {}\".format(pid, \",\".join(rectracks.iloc[i][0:gtlen])))\n",
    "        #print(\"intersect: {}\".format(gtset & recset))\n",
    "        print(\"task name:     {}\".format(noholdout.iloc[i][\"task_name\"]))\n",
    "        print(\"intersect len: {}\".format(len(gtset & recset)))\n",
    "        print(\"playlist len:  {}\".format(gtlen))\n",
    "        print(\"playlist name: {}\".format(noholdout.iloc[i][\"name\"]))\n",
    "        print(\"{}: {}\".format(i, rprec))\n",
    "        print(\"tracks: {}\".format(\",\".join([track[\"artist_name\"] for track in noholdout.iloc[i].tracks[0:gtlen]])))\n",
    "    rprec_sum = rprec_sum + rprec\n",
    "\n",
    "#print(\"rprec_sum = {}\".format(rprec_sum))\n",
    "print(\"rprec = {}\".format(rprec_sum/len(noholdout)))\n",
    "print(\"succeses = {}\".format(successes))\n",
    "#print(\"{}\".format(tracks[0:len(tracks)][\"track_uri\"]))\n",
    "    "
   ]
  },
  {
   "cell_type": "code",
   "execution_count": null,
   "metadata": {},
   "outputs": [],
   "source": [
    "noholdout[noholdout[\"challenge_pid\"]==2006675]"
   ]
  },
  {
   "cell_type": "code",
   "execution_count": null,
   "metadata": {},
   "outputs": [],
   "source": [
    "noholdout[noholdout[\"challenge_pid\"]==2006675].tracks"
   ]
  },
  {
   "cell_type": "code",
   "execution_count": null,
   "metadata": {},
   "outputs": [],
   "source": [
    "type(noholdout.iloc[10].tracks)"
   ]
  },
  {
   "cell_type": "code",
   "execution_count": null,
   "metadata": {},
   "outputs": [],
   "source": [
    "type(noholdout[noholdout[\"challenge_pid\"]==2000010].tracks.to_list())"
   ]
  },
  {
   "cell_type": "code",
   "execution_count": null,
   "metadata": {},
   "outputs": [],
   "source": [
    "type(noholdout[noholdout[\"challenge_pid\"]==2000010].tracks.to_list()[0])"
   ]
  },
  {
   "cell_type": "code",
   "execution_count": null,
   "metadata": {},
   "outputs": [],
   "source": [
    "[track[\"track_uri\"] for track in noholdout[noholdout[\"challenge_pid\"]==2000010].tracks.to_list()[0]]"
   ]
  },
  {
   "cell_type": "code",
   "execution_count": null,
   "metadata": {},
   "outputs": [],
   "source": [
    "i=0\n",
    "\n",
    "\n",
    "for track in noholdout.loc[noholdout[\"challenge_pid\"]==2000010].tracks.to_list()[0]:\n",
    "    print(\"i = {}\".format(i))\n",
    "    i += 1\n",
    "    #print(\"index = {}\".format(index))\n",
    "    #print(\"{}\".format(track[\"track_uri\"]))\n",
    "    print(\"{}\".format(type(track)))"
   ]
  },
  {
   "cell_type": "code",
   "execution_count": null,
   "metadata": {},
   "outputs": [],
   "source": [
    "rectracks.head()"
   ]
  },
  {
   "cell_type": "code",
   "execution_count": null,
   "metadata": {},
   "outputs": [],
   "source": [
    "rectracks.loc[2000010].tolist()"
   ]
  },
  {
   "cell_type": "code",
   "execution_count": null,
   "metadata": {},
   "outputs": [],
   "source": [
    "realtracks=pd.DataFrame()\n",
    "rprec_sum = 0.0\n",
    "ndcg_sum = 0.0\n",
    "rprec_match = 0\n",
    "ndcg_match = 0\n",
    "\n",
    "for i in range(len(noholdout)):\n",
    "    pid = startpid + i\n",
    "    #print(\"pid={}\".format(pid))\n",
    "    gttracks = [track[\"track_uri\"] for track in noholdout[noholdout[\"challenge_pid\"]==pid].tracks.to_list()[0]]\n",
    "    candtracks = rectracks.loc[pid].to_list()\n",
    "    rprec = get_r_precision(gttracks, candtracks)\n",
    "    rprec_sum = rprec_sum + rprec\n",
    "    if rprec > 0:\n",
    "        rprec_match += 1\n",
    "    ndcg = get_ndcg(gttracks, candtracks)\n",
    "    ndcg_sum = ndcg_sum + ndcg\n",
    "    if ndcg > 0:\n",
    "        ndcg_match += 1\n",
    "    \n",
    "print(\"rprec = {}\".format(rprec_sum/len(noholdout)))\n",
    "print(\"ndcg = {}\".format(ndcg_sum/len(noholdout)))\n",
    "print(\"rprec_match = {}\".format(rprec_match))\n",
    "print(\"ndcg_match = {}\".format(ndcg_match))"
   ]
  },
  {
   "cell_type": "markdown",
   "metadata": {},
   "source": [
    "## Create Song DB\n",
    "\n",
    "Load all the songs from the training and noholdout to analyze hits an misses in the recommendations set.\n",
    "\n",
    "Specifically motivated by the complete failure of vl6 on mympd"
   ]
  },
  {
   "cell_type": "code",
   "execution_count": null,
   "metadata": {},
   "outputs": [],
   "source": [
    "trainset = \"mpd-2nd-21k\""
   ]
  },
  {
   "cell_type": "code",
   "execution_count": null,
   "metadata": {},
   "outputs": [],
   "source": [
    "debug = True\n",
    "quick = True\n",
    "max_files_for_quick_processing = 20\n",
    "\n",
    "# random state\n",
    "seed = 1"
   ]
  },
  {
   "cell_type": "code",
   "execution_count": null,
   "metadata": {},
   "outputs": [],
   "source": [
    "playlists = pd.DataFrame()\n",
    "tracks = pd.DataFrame()"
   ]
  },
  {
   "cell_type": "code",
   "execution_count": null,
   "metadata": {},
   "outputs": [],
   "source": [
    "def process_mpd(path):\n",
    "    global playlists, tracks;\n",
    "    \n",
    "    count = 0\n",
    "    filenames = os.listdir(path)\n",
    "    for filename in sorted(filenames):\n",
    "        if filename.startswith(\"mpd.slice.\") and filename.endswith(\".json\"):\n",
    "            fullpath = os.sep.join((path, filename))\n",
    "            f = open(fullpath)\n",
    "            js = f.read()\n",
    "            f.close()\n",
    "            if debug: print(\"loaded {}:\".format(fullpath))\n",
    "            mpd_slice = json.loads(js)\n",
    "            # Flatten data\n",
    "            # extract slice info to keep association with original training files.\n",
    "            slice_info = mpd_slice['info']['slice']\n",
    "            slice_playlists = pd.json_normalize(mpd_slice, record_path=['playlists'])\n",
    "            slice_playlists[\"slice\"] = slice_info\n",
    "            if debug: print(\"slice length {}:\".format(len(slice_playlists)))\n",
    "            slice_tracks = pd.json_normalize(mpd_slice['playlists'], record_path=['tracks'], meta=['pid'])\n",
    "            # drop tracks from playlist dataframe\n",
    "            # not worth it to save space, just makes it harder to reconstruct the playlist\n",
    "            #slice_playlists.drop(columns='tracks', inplace=True)\n",
    "            playlists = playlists.append(slice_playlists)\n",
    "            tracks = tracks.append(slice_tracks)\n",
    "            count += 1\n",
    "\n",
    "            if quick and count > max_files_for_quick_processing:\n",
    "                break\n"
   ]
  },
  {
   "cell_type": "code",
   "execution_count": null,
   "metadata": {},
   "outputs": [],
   "source": [
    "%%time\n",
    "process_mpd(\"data/\"+ trainset)"
   ]
  },
  {
   "cell_type": "code",
   "execution_count": null,
   "metadata": {},
   "outputs": [],
   "source": [
    "tracks[tracks[\"track_uri\"]==\"spotify:track:1vvsD4wGSpDtL1hPR4aNKJ\"]"
   ]
  },
  {
   "cell_type": "code",
   "execution_count": null,
   "metadata": {},
   "outputs": [],
   "source": [
    "tracksdb = tracks[[\"artist_name\", \"track_uri\", \"artist_uri\", \"track_name\", \"album_uri\", \"duration_ms\", \"album_name\"]].drop_duplicates(subset=[\"track_uri\"])"
   ]
  },
  {
   "cell_type": "code",
   "execution_count": null,
   "metadata": {},
   "outputs": [],
   "source": [
    "len(tracksdb)"
   ]
  },
  {
   "cell_type": "code",
   "execution_count": null,
   "metadata": {},
   "outputs": [],
   "source": [
    "tracksdb[tracksdb[\"track_uri\"]==\"spotify:track:3uvypVUsiIr1B0BccIcsEh\"]"
   ]
  },
  {
   "cell_type": "code",
   "execution_count": null,
   "metadata": {},
   "outputs": [],
   "source": [
    "noholdout[noholdout[\"challenge_pid\"]==2000001].tracks.to_list()"
   ]
  },
  {
   "cell_type": "code",
   "execution_count": null,
   "metadata": {},
   "outputs": [],
   "source": [
    "for track in rectracks.loc[2000001][0:10].to_list():\n",
    "    print(\"track: \\\"{}\\\"\".format(track))\n",
    "    print(tracksdb[tracksdb[\"track_uri\"]==track])"
   ]
  },
  {
   "cell_type": "code",
   "execution_count": null,
   "metadata": {},
   "outputs": [],
   "source": []
  }
 ],
 "metadata": {
  "language_info": {
   "name": "python",
   "pygments_lexer": "ipython3"
  }
 },
 "nbformat": 4,
 "nbformat_minor": 4
}
