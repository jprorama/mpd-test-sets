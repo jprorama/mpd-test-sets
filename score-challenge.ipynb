{
 "cells": [
  {
   "cell_type": "markdown",
   "metadata": {},
   "source": [
    "## Score challenge submission\n",
    "\n",
    "This notebook produces scores for a custom challenge set.  It scores each tasks and provides a summary score (average).\n",
    "\n",
    "This is designed to help compare the quality of a solution against a challenge set under our control and demonstrate that the aicrowd score is consistent."
   ]
  },
  {
   "cell_type": "code",
   "execution_count": null,
   "metadata": {},
   "outputs": [],
   "source": [
    "import sys\n",
    "import json\n",
    "import re\n",
    "import collections\n",
    "import os\n",
    "import datetime\n",
    "import pandas as pd\n",
    "import numpy as np"
   ]
  },
  {
   "cell_type": "code",
   "execution_count": null,
   "metadata": {},
   "outputs": [],
   "source": [
    "challenge=\"ex2-from-21k-train\"\n",
    "submitdir=\"/home/jpr/projects/mpd-challenge-aicrowd/\"\n",
    "submissionfile=\"method-02-mympd-2nd-21k-2021-11-07.csv.gz\""
   ]
  },
  {
   "cell_type": "markdown",
   "metadata": {},
   "source": [
    "### Load the no holdouts challenge set"
   ]
  },
  {
   "cell_type": "code",
   "execution_count": null,
   "metadata": {},
   "outputs": [],
   "source": [
    "with open('data/{}/challenge_set_noholdout.json'.format(challenge),'r') as f:\n",
    "    data = json.loads(f.read())"
   ]
  },
  {
   "cell_type": "code",
   "execution_count": null,
   "metadata": {},
   "outputs": [],
   "source": [
    "data"
   ]
  },
  {
   "cell_type": "code",
   "execution_count": null,
   "metadata": {},
   "outputs": [],
   "source": [
    "noholdout = pd.json_normalize(data,\"playlists\")"
   ]
  },
  {
   "cell_type": "code",
   "execution_count": null,
   "metadata": {},
   "outputs": [],
   "source": [
    "noholdout"
   ]
  },
  {
   "cell_type": "markdown",
   "metadata": {},
   "source": [
    "### Load challenge submission`"
   ]
  },
  {
   "cell_type": "code",
   "execution_count": null,
   "metadata": {},
   "outputs": [],
   "source": [
    "rectracks=pd.read_csv('{}/{}'.format(submitdir, submissionfile), header=None, skiprows=1, index_col=0)\n"
   ]
  },
  {
   "cell_type": "markdown",
   "metadata": {},
   "source": [
    "Make sure the pids match those of the challenge set.  In the case of mympd the pid range starts at 200000 and goes up in sequence of noholdout data set."
   ]
  },
  {
   "cell_type": "code",
   "execution_count": null,
   "metadata": {},
   "outputs": [],
   "source": [
    "rectracks.sort_values(by=0, axis='index')"
   ]
  },
  {
   "cell_type": "markdown",
   "metadata": {},
   "source": [
    "## convert the noholdouts into track lists"
   ]
  },
  {
   "cell_type": "code",
   "execution_count": null,
   "metadata": {},
   "outputs": [],
   "source": [
    "startpid=2000000"
   ]
  },
  {
   "cell_type": "code",
   "execution_count": null,
   "metadata": {},
   "outputs": [],
   "source": [
    "[track[\"track_uri\"] for track in noholdout.iloc[0].tracks[0:2]]"
   ]
  },
  {
   "cell_type": "code",
   "execution_count": null,
   "metadata": {},
   "outputs": [],
   "source": [
    "len(noholdout)"
   ]
  },
  {
   "cell_type": "markdown",
   "metadata": {},
   "source": [
    "R-precision is the fraction of correctly recommended tracks in the ground truth playlist as described on [the challenge site](https://www.aicrowd.com/challenges/spotify-million-playlist-dataset-challenge#evaluation)\n",
    "    \n",
    "\n",
    "Use the [r-precesion calculation from the hello_world metrics](https://github.com/jprorama/spotify_recSys_challenge_2018/blob/f33d82715190a20fdbc998c9ff709bcabd62a55e/utils/metrics.py#L26)"
   ]
  },
  {
   "cell_type": "code",
   "execution_count": null,
   "metadata": {},
   "outputs": [],
   "source": [
    "realtracks=pd.DataFrame()\n",
    "rprec_sum = 0.0\n",
    "successes = 0\n",
    "\n",
    "for i, tracks in noholdout.head(10000).tracks.iteritems():\n",
    "    pid = startpid + i;\n",
    "    gtlen=len(noholdout.iloc[i].tracks)\n",
    "    gttracks = [track[\"track_uri\"] for track in noholdout.iloc[i].tracks[0:gtlen]]\n",
    "    gtset = set(gttracks)\n",
    "    recset = set(rectracks.iloc[i][0:gtlen])\n",
    "    rprec = len(gtset & recset)/gtlen\n",
    "    if rprec > 0:\n",
    "        successes += 1\n",
    "        #print(\"gt:  {}: {}\".format(pid, \",\".join(gttracks)))\n",
    "        #print(\"rec: {}: {}\".format(pid, \",\".join(rectracks.iloc[i][0:gtlen])))\n",
    "        #print(\"intersect: {}\".format(gtset & recset))\n",
    "        print(\"task name:     {}\".format(noholdout.iloc[i][\"task_name\"]))\n",
    "        print(\"intersect len: {}\".format(len(gtset & recset)))\n",
    "        print(\"playlist len:  {}\".format(gtlen))\n",
    "        print(\"playlist name: {}\".format(noholdout.iloc[i][\"name\"]))\n",
    "        print(\"{}: {}\".format(i, rprec))\n",
    "        print(\"tracks: {}\".format(\",\".join([track[\"artist_name\"] for track in noholdout.iloc[i].tracks[0:gtlen]])))\n",
    "    rprec_sum = rprec_sum + rprec\n",
    "\n",
    "#print(\"rprec_sum = {}\".format(rprec_sum))\n",
    "print(\"rprec = {}\".format(rprec_sum/len(noholdout)))\n",
    "print(\"succeses = {}\".format(successes))\n",
    "#print(\"{}\".format(tracks[0:len(tracks)][\"track_uri\"]))\n",
    "    "
   ]
  }
 ],
 "metadata": {
  "language_info": {
   "name": "python",
   "pygments_lexer": "ipython3"
  }
 },
 "nbformat": 4,
 "nbformat_minor": 4
}
