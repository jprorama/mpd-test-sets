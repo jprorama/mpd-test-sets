{
 "cells": [
  {
   "cell_type": "markdown",
   "metadata": {},
   "source": [
    "## Score challenge submission\n",
    "\n",
    "This notebook produces scores for a custom challenge set.  It scores each tasks and provides a summary score (average).\n",
    "\n",
    "This is designed to help compare the quality of a solution against a challenge set under our control and demonstrate that the aicrowd score is consistent."
   ]
  },
  {
   "cell_type": "code",
   "execution_count": null,
   "metadata": {},
   "outputs": [],
   "source": [
    "import sys\n",
    "import json\n",
    "import re\n",
    "import collections\n",
    "import os\n",
    "import datetime\n",
    "import pandas as pd\n",
    "import numpy as np\n",
    "import math\n",
    "import matplotlib.pyplot as plt\n",
    "import seaborn as sns\n",
    "import time\n",
    "import pickle"
   ]
  },
  {
   "cell_type": "code",
   "execution_count": null,
   "metadata": {},
   "outputs": [],
   "source": [
    "challenge=\"ex2-from-21k-train-with-pids\"\n",
    "submitdir=\"/home/jpr/projects/mpd-challenge-aicrowd/\"\n",
    "\n",
    "submissionfile=\"method-01-mympd-2nd-21k-2021-11-14.csv.gz\"\n",
    "submissions = [{\"tag\": \"vl6\", \"trainsizek\": 21, \"dir\": submitdir, \"file\": submissionfile}]\n",
    "\n",
    "submissionfile=\"method-02-mympd-2nd-21k-2021-11-07.csv.gz\"\n",
    "submissions.append({\"tag\": \"hw\", \"trainsizek\": 21, \"dir\": submitdir, \"file\": submissionfile})\n",
    "\n",
    "submissionfile=\"method-u2uknn-mympd-full-mympd-full-20k-2021-12-30.csv.gz\"\n",
    "submissions.append({\"method\": \"u2uknn\", \n",
    "                    \"challenge\":\"mympd-full\", \n",
    "                    \"trainset\":\"mympd-full-20k\", \n",
    "                    \"trainsizek\": 20, \n",
    "                    \"tag\": \"u2uknnfull-20k\",\n",
    "                    \"dir\": submitdir,\n",
    "                    \"file\": submissionfile})\n",
    "submissionfile=\"method-u2uknn-mympd-full-mympd-full-40k-2021-12-31.csv.gz\"\n",
    "submissions.append({\"method\": \"u2uknn\", \n",
    "                    \"challenge\":\"mympd-full\", \n",
    "                    \"trainset\":\"mympd-full-40k\", \n",
    "                    \"trainsizek\": 40, \n",
    "                    \"tag\": \"u2uknnfull-40k\", \n",
    "                    \"dir\": submitdir,\n",
    "                    \"file\": submissionfile})\n",
    "submissionfile=\"method-u2uknn-mympd-full-mympd-full-60k-2021-12-31.csv.gz\"\n",
    "submissions.append({\"method\": \"u2uknn\", \n",
    "                    \"challenge\":\"mympd-full\", \n",
    "                    \"trainset\":\"mympd-full-60k\", \n",
    "                    \"trainsizek\": 60, \n",
    "                    \"tag\": \"u2uknnfull-60k\", \n",
    "                    \"dir\": submitdir,\n",
    "                    \"file\": submissionfile})\n",
    "submissionfile=\"method-u2uknn-mympd-full-mympd-full-80k-2021-12-31.csv.gz\"\n",
    "submissions.append({\"method\": \"u2uknn\", \n",
    "                    \"challenge\":\"mympd-full\", \n",
    "                    \"trainset\":\"mympd-full-80k\", \n",
    "                    \"trainsizek\": 80, \n",
    "                    \"tag\": \"u2uknnfull-80k\", \n",
    "                    \"dir\": submitdir,\n",
    "                    \"file\": submissionfile})\n",
    "submissionfile=\"method-u2uknn-mympd-full-mympd-full-100k-2021-12-31.csv.gz\"\n",
    "submissions.append({\"method\": \"u2uknn\", \n",
    "                    \"challenge\":\"mympd-full\", \n",
    "                    \"trainset\":\"mympd-full-100k\", \n",
    "                    \"trainsizek\": 100, \n",
    "                    \"tag\": \"u2uknnfull-100k\", \n",
    "                    \"dir\": submitdir,\n",
    "                    \"file\": submissionfile})\n",
    "\n",
    "submitdir=\"/home/jpr/projects/mpd-challenge-aicrowd/2022-01-02-scaling/\"\n",
    "\n",
    "submissionfile=\"method-u2uknn-mympd-full-mympd-full-20k-2022-01-07.csv.gz\"\n",
    "submissions.append({\"method\": \"u2uknn\", \n",
    "                    \"challenge\":\"mympd-full\", \n",
    "                    \"trainset\":\"mympd-full-20k\", \n",
    "                    \"trainsizek\": 20, \n",
    "                    \"tag\": \"u2uknnfull-20k-v2\",\n",
    "                    \"dir\": submitdir,\n",
    "                    \"file\": submissionfile})\n",
    "submissionfile=\"method-u2uknn-mympd-full-mympd-full-200k-2022-01-07.csv.gz\"\n",
    "submissions.append({\"method\": \"u2uknn\", \n",
    "                    \"challenge\":\"mympd-full\", \n",
    "                    \"trainset\":\"mympd-full-200k\", \n",
    "                    \"trainsizek\": 200, \n",
    "                    \"tag\": \"u2uknnfull-200k-v2\",\n",
    "                    \"dir\": submitdir,\n",
    "                    \"file\": submissionfile})\n",
    "\n",
    "\n",
    "submissionfile=\"method-u2uknn-mympd-full-mympd-full-300k-2022-01-08_06:46:35.csv.gz\"\n",
    "submissions.append({\"method\": \"u2uknn\", \n",
    "                    \"challenge\":\"mympd-full\", \n",
    "                    \"trainset\":\"mympd-full-300k\", \n",
    "                    \"trainsizek\": 300, \n",
    "                    \"tag\": \"u2uknnfull-300k-v2\",\n",
    "                    \"dir\": submitdir,\n",
    "                    \"file\": submissionfile})\n",
    "submissionfile=\"method-u2uknn-mympd-full-mympd-full-400k-2022-01-08_06:46:35.csv.gz\"\n",
    "submissions.append({\"method\": \"u2uknn\", \n",
    "                    \"challenge\":\"mympd-full\", \n",
    "                    \"trainset\":\"mympd-full-400k\", \n",
    "                    \"trainsizek\": 400, \n",
    "                    \"tag\": \"u2uknnfull-400k-v2\",\n",
    "                    \"dir\": submitdir,\n",
    "                    \"file\": submissionfile})\n",
    "submissionfile=\"method-u2uknn-mympd-full-mympd-full-500k-2022-01-08_09:46:39.csv.gz\"\n",
    "submissions.append({\"method\": \"u2uknn\", \n",
    "                    \"challenge\":\"mympd-full\", \n",
    "                    \"trainset\":\"mympd-full-500k\", \n",
    "                    \"trainsizek\": 500, \n",
    "                    \"tag\": \"u2uknnfull-500k-v2\",\n",
    "                    \"dir\": submitdir,\n",
    "                    \"file\": submissionfile})\n",
    "\n",
    "submissionfile=\"method-u2uknn-mympd-full-mympd-full-20k-2022-01-12_19:32:21.csv.gz\"\n",
    "submissions.append({\"method\": \"u2uknn-20220112\", \n",
    "                    \"challenge\":\"mympd-full\", \n",
    "                    \"trainset\":\"mympd-full-20k\", \n",
    "                    \"trainsizek\": 20, \n",
    "                    \"tag\": \"u2uknnfull-20k-v3\",\n",
    "                    \"dir\": submitdir,\n",
    "                    \"file\": submissionfile})\n",
    "submissionfile=\"method-u2uknn-mympd-full-mympd-full-40k-2022-01-12_19:32:20.csv.gz\"\n",
    "submissions.append({\"method\": \"u2uknn-20220112\", \n",
    "                    \"challenge\":\"mympd-full\", \n",
    "                    \"trainset\":\"mympd-full-40k\", \n",
    "                    \"trainsizek\": 40, \n",
    "                    \"tag\": \"u2uknnfull-40k-v3\",\n",
    "                    \"dir\": submitdir,\n",
    "                    \"file\": submissionfile})\n",
    "submissionfile=\"method-u2uknn-mympd-full-mympd-full-60k-2022-01-12_19:32:20.csv.gz\"\n",
    "submissions.append({\"method\": \"u2uknn-20220112\", \n",
    "                    \"challenge\":\"mympd-full\", \n",
    "                    \"trainset\":\"mympd-full-60k\", \n",
    "                    \"trainsizek\": 60, \n",
    "                    \"tag\": \"u2uknnfull-60k-v3\",\n",
    "                    \"dir\": submitdir,\n",
    "                    \"file\": submissionfile})\n",
    "submissionfile=\"method-u2uknn-mympd-full-mympd-full-80k-2022-01-12_19:32:20.csv.gz\"\n",
    "submissions.append({\"method\": \"u2uknn-20220112\", \n",
    "                    \"challenge\":\"mympd-full\", \n",
    "                    \"trainset\":\"mympd-full-80k\", \n",
    "                    \"trainsizek\": 80, \n",
    "                    \"tag\": \"u2uknnfull-80k-v3\",\n",
    "                    \"dir\": submitdir,\n",
    "                    \"file\": submissionfile})\n",
    "submissionfile=\"method-u2uknn-mympd-full-mympd-full-100k-2022-01-12_19:32:20.csv.gz\"\n",
    "submissions.append({\"method\": \"u2uknn-20220112\", \n",
    "                    \"challenge\":\"mympd-full\", \n",
    "                    \"trainset\":\"mympd-full-100k\", \n",
    "                    \"trainsizek\": 100, \n",
    "                    \"tag\": \"u2uknnfull-100k-v3\",\n",
    "                    \"dir\": submitdir,\n",
    "                    \"file\": submissionfile})\n",
    "submissionfile=\"method-u2uknn-mympd-full-mympd-full-200k-2022-01-12_19:32:20.csv.gz\"\n",
    "submissions.append({\"method\": \"u2uknn-20220112\", \n",
    "                    \"challenge\":\"mympd-full\", \n",
    "                    \"trainset\":\"mympd-full-200k\", \n",
    "                    \"trainsizek\": 200, \n",
    "                    \"tag\": \"u2uknnfull-200k-v3\",\n",
    "                    \"dir\": submitdir,\n",
    "                    \"file\": submissionfile})\n",
    "submissionfile=\"method-u2uknn-mympd-full-mympd-full-300k-2022-01-12_19:32:20.csv.gz\"\n",
    "submissions.append({\"method\": \"u2uknn-20220112\", \n",
    "                    \"challenge\":\"mympd-full\", \n",
    "                    \"trainset\":\"mympd-full-300k\", \n",
    "                    \"trainsizek\": 300, \n",
    "                    \"tag\": \"u2uknnfull-300k-v3\",\n",
    "                    \"dir\": submitdir,\n",
    "                    \"file\": submissionfile})\n",
    "submissionfile=\"method-u2uknn-mympd-full-mympd-full-400k-2022-01-12_19:39:21.csv.gz\"\n",
    "submissions.append({\"method\": \"u2uknn-20220112\", \n",
    "                    \"challenge\":\"mympd-full\", \n",
    "                    \"trainset\":\"mympd-full-400k\", \n",
    "                    \"trainsizek\": 400, \n",
    "                    \"tag\": \"u2uknnfull-400k-v3\",\n",
    "                    \"dir\": submitdir,\n",
    "                    \"file\": submissionfile})\n",
    "\n",
    "\n",
    "#submissionfile=\"method-u2uknn-mympd-full-mympd-full-500k-2022-01-12_19:43:06.csv.gz\"\n",
    "#submissions.append({\"method\": \"u2uknn-20220112\", \n",
    "#                    \"challenge\":\"mympd-full\", \n",
    "#                    \"trainset\":\"mympd-full-500k\", \n",
    "#                    \"trainsizek\": 500, \n",
    "#                    \"tag\": \"u2uknnfull-500k-v3\",\n",
    "#                    \"dir\": submitdir,\n",
    "#                    \"file\": submissionfile})\n",
    "\n",
    "submissionfile=\"method-u2uknn-mympd-full-mympd-full-20k-2022-01-15_08:53:05.csv.gz\"\n",
    "submissions.append({\"method\": \"u2uknn-20220115\", \n",
    "                    \"challenge\":\"mympd-full\", \n",
    "                    \"trainset\":\"mympd-full-20k\", \n",
    "                    \"trainsizek\": 20, \n",
    "                    \"tag\": \"u2uknnfull-20k-v2.0.1\",\n",
    "                    \"dir\": submitdir,\n",
    "                    \"file\": submissionfile})\n",
    "submissionfile=\"method-u2uknn-mympd-full-mympd-full-20k-2022-01-16_13:20:36.csv.gz\"\n",
    "submissions.append({\"method\": \"u2uknn-20220116\", \n",
    "                    \"challenge\":\"mympd-full\", \n",
    "                    \"trainset\":\"mympd-full-20k\", \n",
    "                    \"trainsizek\": 20, \n",
    "                    \"tag\": \"u2uknnfull-20k-v2.0.2\",\n",
    "                    \"dir\": submitdir,\n",
    "                    \"file\": submissionfile})\n",
    "submissionfile=\"method-u2uknn-mympd-full-mympd-full-20k-2022-01-16_14:15:28.csv.gz\"\n",
    "submissions.append({\"method\": \"u2uknn-20220116\", \n",
    "                    \"challenge\":\"mympd-full\", \n",
    "                    \"trainset\":\"mympd-full-20k\", \n",
    "                    \"trainsizek\": 20, \n",
    "                    \"tag\": \"u2uknnfull-20k-v2.1.0\",\n",
    "                    \"dir\": submitdir,\n",
    "                    \"file\": submissionfile})\n",
    "submissionfile=\"method-u2uknn-mympd-full-mympd-full-20k-2022-01-17_09:59:27.csv.gz\"\n",
    "submissions.append({\"method\": \"u2uknn-20220117\", \n",
    "                    \"challenge\":\"mympd-full\", \n",
    "                    \"trainset\":\"mympd-full-20k\", \n",
    "                    \"trainsizek\": 20, \n",
    "                    \"tag\": \"u2uknnfull-20k-v2.1.1\",\n",
    "                    \"dir\": submitdir,\n",
    "                    \"file\": submissionfile})\n",
    "submissionfile=\"method-u2uknn-mympd-full-mympd-full-20k-2022-01-17_11:35:26.csv.gz\"\n",
    "submissions.append({\"method\": \"u2uknn-20220117\", \n",
    "                    \"challenge\":\"mympd-full\", \n",
    "                    \"trainset\":\"mympd-full-20k\", \n",
    "                    \"trainsizek\": 20, \n",
    "                    \"tag\": \"u2uknnfull-20k-v2.2.0\",\n",
    "                    \"dir\": submitdir,\n",
    "                    \"file\": submissionfile})\n",
    "submissionfile=\"method-u2uknn-mympd-full-mympd-full-20k-2022-01-17_12:13:32.csv.gz\"\n",
    "submissions.append({\"method\": \"u2uknn-20220117\", \n",
    "                    \"challenge\":\"mympd-full\", \n",
    "                    \"trainset\":\"mympd-full-20k\", \n",
    "                    \"trainsizek\": 20, \n",
    "                    \"tag\": \"u2uknnfull-20k-v2.2.1\",\n",
    "                    \"dir\": submitdir,\n",
    "                    \"file\": submissionfile})\n",
    "submissionfile=\"method-u2uknn-mympd-full-mympd-full-20k-2022-01-17_14:53:39.csv.gz\"\n",
    "submissions.append({\"method\": \"u2uknn-20220117\", \n",
    "                    \"challenge\":\"mympd-full\", \n",
    "                    \"trainset\":\"mympd-full-20k\", \n",
    "                    \"trainsizek\": 20, \n",
    "                    \"tag\": \"u2uknnfull-20k-v2.2.2\",\n",
    "                    \"dir\": submitdir,\n",
    "                    \"file\": submissionfile})\n",
    "submissionfile=\"method-u2uknn-mympd-full-mympd-full-20k-2022-01-17_15:33:31.csv.gz\"\n",
    "submissions.append({\"method\": \"u2uknn-20220117\", \n",
    "                    \"challenge\":\"mympd-full\", \n",
    "                    \"trainset\":\"mympd-full-20k\", \n",
    "                    \"trainsizek\": 20, \n",
    "                    \"tag\": \"u2uknnfull-20k-v2.2.3\",\n",
    "                    \"dir\": submitdir,\n",
    "                    \"file\": submissionfile})\n",
    "submissionfile=\"method-u2uknn-mympd-full-mympd-full-20k-2022-01-18_03:16:20.csv.gz\"\n",
    "submissions.append({\"method\": \"u2uknn-20220118\", \n",
    "                    \"challenge\":\"mympd-full\", \n",
    "                    \"trainset\":\"mympd-full-20k\", \n",
    "                    \"trainsizek\": 20, \n",
    "                    \"tag\": \"u2uknnfull-20k-v2.2.4\",\n",
    "                    \"dir\": submitdir,\n",
    "                    \"file\": submissionfile})\n",
    "\n",
    "\n",
    "submissionfile=\"method-u2uknn-mympd-full-mympd-full-500k-2022-01-16_10:37:48.csv.gz\"\n",
    "submissions.append({\"method\": \"u2uknn-20220116\", \n",
    "                    \"challenge\":\"mympd-full\", \n",
    "                    \"trainset\":\"mympd-full-500k\", \n",
    "                    \"trainsizek\": 500, \n",
    "                    \"tag\": \"u2uknnfull-500k-v2.0.1\",\n",
    "                    \"dir\": submitdir,\n",
    "                    \"file\": submissionfile})\n",
    "\n",
    "\n",
    "submissionfile=\"method-u2uknn-mympd-full-mympd-full-600k-2022-01-12_06:35:12.csv.gz\"\n",
    "submissions.append({\"method\": \"u2uknn-20220112\", \n",
    "                    \"challenge\":\"mympd-full\", \n",
    "                    \"trainset\":\"mympd-full-600k\", \n",
    "                    \"trainsizek\": 600, \n",
    "                    \"tag\": \"u2uknnfull-600k-v3\",\n",
    "                    \"dir\": submitdir,\n",
    "                    \"file\": submissionfile})\n",
    "submissionfile=\"method-u2uknn-mympd-full-mympd-full-700k-2022-01-12_06:35:12.csv.gz\"\n",
    "submissions.append({\"method\": \"u2uknn-20220112\", \n",
    "                    \"challenge\":\"mympd-full\", \n",
    "                    \"trainset\":\"mympd-full-700k\", \n",
    "                    \"trainsizek\": 700, \n",
    "                    \"tag\": \"u2uknnfull-700k-v3\",\n",
    "                    \"dir\": submitdir,\n",
    "                    \"file\": submissionfile})\n",
    "submissionfile=\"method-u2uknn-mympd-full-mympd-full-800k-2022-01-12_06:35:12.csv.gz\"\n",
    "submissions.append({\"method\": \"u2uknn-20220112\", \n",
    "                    \"challenge\":\"mympd-full\", \n",
    "                    \"trainset\":\"mympd-full-800k\", \n",
    "                    \"trainsizek\": 800, \n",
    "                    \"tag\": \"u2uknnfull-800k-v3\",\n",
    "                    \"dir\": submitdir,\n",
    "                    \"file\": submissionfile})\n",
    "submissionfile=\"method-u2uknn-mympd-full-mympd-full-900k-2022-01-12_06:35:12.csv.gz\"\n",
    "submissions.append({\"method\": \"u2uknn-20220112\", \n",
    "                    \"challenge\":\"mympd-full\", \n",
    "                    \"trainset\":\"mympd-full-900k\", \n",
    "                    \"trainsizek\": 900, \n",
    "                    \"tag\": \"u2uknnfull-900k-v3\",\n",
    "                    \"dir\": submitdir,\n",
    "                    \"file\": submissionfile})\n",
    "\n",
    "\n",
    "submissionfile=\"method-i2iknn-mympd-full-mympd-full-20k-2022-01-02.csv.gz\"\n",
    "submissions.append({\"method\": \"i2iknn\", \n",
    "                    \"challenge\":\"mympd-full\", \n",
    "                    \"trainset\":\"mympd-full-20k\",\n",
    "                    \"trainsizek\": 20, \n",
    "                    \"tag\": \"i2iknnfull-20k\", \n",
    "                    \"dir\": submitdir,\n",
    "                    \"file\": submissionfile})\n",
    "submissionfile=\"method-i2iknn-mympd-full-mympd-full-40k-2022-01-02.csv.gz\"\n",
    "submissions.append({\"method\": \"i2iknn\", \n",
    "                    \"challenge\":\"mympd-full\", \n",
    "                    \"trainset\":\"mympd-full-40k\", \n",
    "                    \"trainsizek\": 40, \n",
    "                    \"tag\": \"i2iknnfull-40k\", \n",
    "                    \"dir\": submitdir,\n",
    "                    \"file\": submissionfile})\n",
    "submissionfile=\"method-i2iknn-mympd-full-mympd-full-60k-2022-01-02.csv.gz\"\n",
    "submissions.append({\"method\": \"i2iknn\", \n",
    "                    \"challenge\":\"mympd-full\", \n",
    "                    \"trainset\":\"mympd-full-60k\", \n",
    "                    \"trainsizek\": 60, \n",
    "                    \"tag\": \"i2iknnfull-60k\", \n",
    "                    \"dir\": submitdir,\n",
    "                    \"file\": submissionfile})\n",
    "submissionfile=\"method-i2iknn-mympd-full-mympd-full-80k-2022-01-02.csv.gz\"\n",
    "submissions.append({\"method\": \"i2iknn\", \n",
    "                    \"challenge\":\"mympd-full\", \n",
    "                    \"trainset\":\"mympd-full-80k\", \n",
    "                    \"trainsizek\": 80, \n",
    "                    \"tag\": \"i2iknnfull-80k\", \n",
    "                    \"dir\": submitdir,\n",
    "                    \"file\": submissionfile})\n",
    "submissionfile=\"method-i2iknn-mympd-full-mympd-full-100k-2022-01-02.csv.gz\"\n",
    "submissions.append({\"method\": \"i2iknn\", \n",
    "                    \"challenge\":\"mympd-full\", \n",
    "                    \"trainset\":\"mympd-full-100k\", \n",
    "                    \"trainsizek\": 100, \n",
    "                    \"tag\": \"i2iknnfull-100k\", \n",
    "                    \"dir\": submitdir,\n",
    "                    \"file\": submissionfile})"
   ]
  },
  {
   "cell_type": "code",
   "execution_count": null,
   "metadata": {},
   "outputs": [],
   "source": [
    "submitdir=\"/home/jpr/projects/mpd-challenge-aicrowd/2022-01-02-scaling/\"\n",
    "submissionfile=\"method-mfals-mympd-full-mympd-full-20k-2022-01-02.csv.gz\"\n",
    "submissions.append({\"method\": \"mfals\", \n",
    "                    \"challenge\":\"mympd-full\", \n",
    "                    \"trainset\":\"mympd-full-20k\", \n",
    "                    \"trainsizek\": 20, \n",
    "                    \"tag\": \"mfalsfull-20k\", \n",
    "                    \"dir\": submitdir,\n",
    "                    \"file\": submissionfile})\n",
    "submissionfile=\"method-mfals-mympd-full-mympd-full-40k-2022-01-02.csv.gz\"\n",
    "submissions.append({\"method\": \"mfals\", \n",
    "                    \"challenge\":\"mympd-full\", \n",
    "                    \"trainset\":\"mympd-full-40k\", \n",
    "                    \"trainsizek\": 40, \n",
    "                    \"tag\": \"mfalsfull-40k\", \n",
    "                    \"dir\": submitdir,\n",
    "                    \"file\": submissionfile})\n",
    "submissionfile=\"method-mfals-mympd-full-mympd-full-60k-2022-01-02.csv.gz\"\n",
    "submissions.append({\"method\": \"mfals\", \n",
    "                    \"challenge\":\"mympd-full\", \n",
    "                    \"trainset\":\"mympd-full-60k\", \n",
    "                    \"trainsizek\": 60, \n",
    "                    \"tag\": \"mfalsfull-60k\", \n",
    "                    \"dir\": submitdir,\n",
    "                    \"file\": submissionfile})\n",
    "submissionfile=\"method-mfals-mympd-full-mympd-full-80k-2022-01-02.csv.gz\"\n",
    "submissions.append({\"method\": \"mfals\", \n",
    "                    \"challenge\":\"mympd-full\", \n",
    "                    \"trainset\":\"mympd-full-80k\", \n",
    "                    \"trainsizek\": 80, \n",
    "                    \"tag\": \"mfalsfull-80k\", \n",
    "                    \"dir\": submitdir,\n",
    "                    \"file\": submissionfile})\n",
    "submissionfile=\"method-mfals-mympd-full-mympd-full-100k-2022-01-02.csv.gz\"\n",
    "submissions.append({\"method\": \"mfals\", \n",
    "                    \"challenge\":\"mympd-full\", \n",
    "                    \"trainset\":\"mympd-full-100k\", \n",
    "                    \"trainsizek\": 100, \n",
    "                    \"tag\": \"mfalsfull-100k\", \n",
    "                    \"dir\": submitdir,\n",
    "                    \"file\": submissionfile})\n",
    "submissionfile=\"method-mfals-mympd-full-mympd-full-200k-2022-01-06.csv.gz\"\n",
    "submissions.append({\"method\": \"mfals\", \n",
    "                    \"challenge\":\"mympd-full\", \n",
    "                    \"trainset\":\"mympd-full-200k\", \n",
    "                    \"trainsizek\": 200, \n",
    "                    \"tag\": \"mfalsfull-200k\", \n",
    "                    \"dir\": submitdir,\n",
    "                    \"file\": submissionfile})\n",
    "submissionfile=\"method-mfals-mympd-full-mympd-full-300k-2022-01-06.csv.gz\"\n",
    "submissions.append({\"method\": \"mfals\", \n",
    "                    \"challenge\":\"mympd-full\", \n",
    "                    \"trainset\":\"mympd-full-300k\", \n",
    "                    \"trainsizek\": 300, \n",
    "                    \"tag\": \"mfalsfull-300k\", \n",
    "                    \"dir\": submitdir,\n",
    "                    \"file\": submissionfile})\n",
    "submissionfile=\"method-mfals-mympd-full-mympd-full-400k-2022-01-06.csv.gz\"\n",
    "submissions.append({\"method\": \"mfals\", \n",
    "                    \"challenge\":\"mympd-full\", \n",
    "                    \"trainset\":\"mympd-full-400k\", \n",
    "                    \"trainsizek\": 400, \n",
    "                    \"tag\": \"mfalsfull-400k\", \n",
    "                    \"dir\": submitdir,\n",
    "                    \"file\": submissionfile})\n",
    "submissionfile=\"method-mfals-mympd-full-mympd-full-500k-2022-01-06.csv.gz\"\n",
    "submissions.append({\"method\": \"mfals\", \n",
    "                    \"challenge\":\"mympd-full\", \n",
    "                    \"trainset\":\"mympd-full-500k\", \n",
    "                    \"trainsizek\": 500, \n",
    "                    \"tag\": \"mfalsfull-500k\", \n",
    "                    \"dir\": submitdir,\n",
    "                    \"file\": submissionfile})"
   ]
  },
  {
   "cell_type": "code",
   "execution_count": null,
   "metadata": {},
   "outputs": [],
   "source": [
    "submitdir=\"/home/jpr/projects/mpd-challenge-aicrowd/\"\n",
    "\n",
    "submissionfile=\"method-u2uknn-mympd-mpd-2nd-21k-2021-12-12.csv.gz\"\n",
    "submissions.append({\"tag\": \"u2uknn\", \"trainsizek\": 21, \"dir\": submitdir, \"file\": submissionfile})\n",
    "\n",
    "submissionfile=\"method-i2iknn-mympd-mpd-2nd-21k-2021-12-18.csv.gz\"\n",
    "submissions.append({\"tag\": \"i2iknn\", \"trainsizek\": 21, \"dir\": submitdir, \"file\": submissionfile})\n",
    "\n",
    "submissionfile=\"method-mfals-mympd-mpd-2nd-21k-2021-12-26.csv.gz\"\n",
    "submissions.append({\"tag\": \"mfals\", \"trainsizek\": 21, \"dir\": submitdir, \"file\": submissionfile})"
   ]
  },
  {
   "cell_type": "code",
   "execution_count": null,
   "metadata": {},
   "outputs": [],
   "source": [
    "submissions=[]"
   ]
  },
  {
   "cell_type": "markdown",
   "metadata": {},
   "source": [
    "Experiments to find performance defecit of unified u2u/i2i knn notebook"
   ]
  },
  {
   "cell_type": "code",
   "execution_count": null,
   "metadata": {},
   "outputs": [],
   "source": [
    "experiments=list()\n",
    "#experiments.append(\"/home/jpr/projects/mpd-test-sets/results/i2i-scale-test\")\n",
    "#experiments.append(\"/home/jpr/projects/mpd-test-sets/results/i2i-direct-dotprod\")\n",
    "experiments.append(\"/home/jpr/projects/mpd-test-sets/results/i2i-original-sim\")\n",
    "experiments.append(\"/home/jpr/projects/mpd-test-sets/results/i2i-fast-sim\")\n",
    "experiments.append(\"/home/jpr/projects/mpd-test-sets/results/i2i-fast-sim-score-batch\")\n",
    "experiments.append(\"/home/jpr/projects/mpd-test-sets/results/i2i-orig-test\")\n",
    "experiments.append(\"/home/jpr/projects/mpd-test-sets/results/i2i-orig-in-unified-u2u\")\n",
    "experiments.append(\"/home/jpr/projects/mpd-test-sets/results/i2i-old-knn-i2i\")\n",
    "experiments.append(\"/home/jpr/projects/mpd-test-sets/results/i2i-orig-in-unified-u2u-score-truncate\")\n",
    "experiments.append(\"/home/jpr/projects/mpd-test-sets/results/i2i-orig-in-unified-u2u-score-c2a-batch\")\n",
    "experiments.append(\"/home/jpr/projects/mpd-test-sets/results/i2i-orig-in-unified-u2u-score-c2a-direct\")\n",
    "experiments.append(\"/home/jpr/projects/mpd-test-sets/results/i2i-orig-in-unified-u2u-score-c2a-batch-trainset-sim\")"
   ]
  },
  {
   "cell_type": "code",
   "execution_count": null,
   "metadata": {},
   "outputs": [],
   "source": [
    "experiments=list()\n",
    "experiments.append(\"/home/jpr/projects/mpd-test-sets/results/u2u-optimized-scaled-complete\")\n",
    "experiments.append(\"/home/jpr/projects/mpd-test-sets/results/i2i-optimized-scaled-complete\")\n",
    "#experiments.append(\"/home/jpr/projects/mpd-test-sets/results/u2u-optimized-scaled-complete-redux\")\n",
    "#experiments.append(\"/home/jpr/projects/mpd-test-sets/results/mfals-manual-results-2022-01-02\")"
   ]
  },
  {
   "cell_type": "code",
   "execution_count": null,
   "metadata": {},
   "outputs": [],
   "source": [
    "#submissions=[]\n",
    "\n",
    "for submitdir in experiments:\n",
    "    with os.scandir(submitdir) as entries:\n",
    "        for entry in entries:\n",
    "            if entry.name.endswith(\".gz\"):\n",
    "                print(entry.name)\n",
    "                method, challenge, trainset, ignore = entry.name.split(\"_\", 3)\n",
    "                ignore, method = method.split(\"-\", 1)\n",
    "                trainset, size = trainset.rsplit(\"-\", 1)\n",
    "                size = size.split('k')[0]\n",
    "                ignore, tag = submitdir.rsplit(\"/\", 1)\n",
    "\n",
    "                submissions.append({\"method\": method, \n",
    "                        \"challenge\": challenge, \n",
    "                        \"trainset\": trainset, \n",
    "                        \"trainsize\": size, \n",
    "                        \"tag\": tag, \n",
    "                        \"dir\": submitdir + \"/\",\n",
    "                        \"file\": entry.name})\n",
    "            "
   ]
  },
  {
   "cell_type": "code",
   "execution_count": null,
   "metadata": {},
   "outputs": [],
   "source": [
    "submissions"
   ]
  },
  {
   "cell_type": "code",
   "execution_count": null,
   "metadata": {},
   "outputs": [],
   "source": [
    "submitdir=\"/home/jpr/projects/mpd-challenge-aicrowd/\""
   ]
  },
  {
   "cell_type": "code",
   "execution_count": null,
   "metadata": {},
   "outputs": [],
   "source": [
    "result_files={\"vl6\": \"method-01-mympd-2nd-21k-2021-11-14.csv.gz\",\n",
    "        \"hw\": \"method-02-mympd-2nd-21k-2021-11-07.csv.gz\",\n",
    "        \"u2uknn\": \"method-u2uknn-mympd-mpd-2nd-21k-2021-12-12.csv.gz\"}"
   ]
  },
  {
   "cell_type": "markdown",
   "metadata": {},
   "source": [
    "### Load the no holdouts challenge set"
   ]
  },
  {
   "cell_type": "code",
   "execution_count": null,
   "metadata": {},
   "outputs": [],
   "source": [
    "with open('data/{}/challenge_set_noholdout.json'.format(challenge),'r') as f:\n",
    "    data = json.loads(f.read())"
   ]
  },
  {
   "cell_type": "code",
   "execution_count": null,
   "metadata": {},
   "outputs": [],
   "source": [
    "noholdout = pd.json_normalize(data,\"playlists\")"
   ]
  },
  {
   "cell_type": "code",
   "execution_count": null,
   "metadata": {},
   "outputs": [],
   "source": [
    "noholdout.head()"
   ]
  },
  {
   "cell_type": "markdown",
   "metadata": {},
   "source": [
    "Reorder noholdouts to group sequential and random tasks."
   ]
  },
  {
   "cell_type": "code",
   "execution_count": null,
   "metadata": {},
   "outputs": [],
   "source": [
    "tmpdf=noholdout[0:6000]"
   ]
  },
  {
   "cell_type": "code",
   "execution_count": null,
   "metadata": {},
   "outputs": [],
   "source": [
    "tmpdf=tmpdf.append(noholdout[7000:8000])"
   ]
  },
  {
   "cell_type": "code",
   "execution_count": null,
   "metadata": {},
   "outputs": [],
   "source": [
    "tmpdf=tmpdf.append(noholdout[6000:7000])"
   ]
  },
  {
   "cell_type": "code",
   "execution_count": null,
   "metadata": {},
   "outputs": [],
   "source": [
    "tmpdf=tmpdf.append(noholdout[8000:10000])"
   ]
  },
  {
   "cell_type": "code",
   "execution_count": null,
   "metadata": {},
   "outputs": [],
   "source": [
    "tmpdf.task_name.unique()"
   ]
  },
  {
   "cell_type": "code",
   "execution_count": null,
   "metadata": {},
   "outputs": [],
   "source": [
    "noholdout=tmpdf"
   ]
  },
  {
   "cell_type": "code",
   "execution_count": null,
   "metadata": {},
   "outputs": [],
   "source": [
    "with open('data/{}/challenge_set_noholdout.json'.format(\"mympd-full\"),'r') as f:\n",
    "    data = json.loads(f.read())\n",
    "    \n",
    " \n",
    "noholdout2 = pd.json_normalize(data,\"playlists\")"
   ]
  },
  {
   "cell_type": "code",
   "execution_count": null,
   "metadata": {},
   "outputs": [],
   "source": [
    "def reorder_holdout(noholdout):\n",
    "    tmpdf=noholdout[0:6000]\n",
    "    tmpdf=tmpdf.append(noholdout[7000:8000])\n",
    "    tmpdf=tmpdf.append(noholdout[6000:7000])\n",
    "    tmpdf=tmpdf.append(noholdout[8000:10000])\n",
    "    return tmpdf"
   ]
  },
  {
   "cell_type": "code",
   "execution_count": null,
   "metadata": {},
   "outputs": [],
   "source": [
    "noholdout2=reorder_holdout(noholdout2)"
   ]
  },
  {
   "cell_type": "markdown",
   "metadata": {},
   "source": [
    "### Load challenge submission`"
   ]
  },
  {
   "cell_type": "code",
   "execution_count": null,
   "metadata": {},
   "outputs": [],
   "source": [
    "rectracks=pd.read_csv('{}/{}'.format(submitdir, submissionfile), header=None, skiprows=1, index_col=0, skipinitialspace=True)\n"
   ]
  },
  {
   "cell_type": "markdown",
   "metadata": {},
   "source": [
    "Make sure the pids match those of the challenge set.  In the case of mympd the pid range starts at 200000 and goes up in sequence of noholdout data set."
   ]
  },
  {
   "cell_type": "code",
   "execution_count": null,
   "metadata": {},
   "outputs": [],
   "source": [
    "rectracks.head()"
   ]
  },
  {
   "cell_type": "code",
   "execution_count": null,
   "metadata": {},
   "outputs": [],
   "source": [
    "rectracks = rectracks.sort_values(by=0, axis='index')"
   ]
  },
  {
   "cell_type": "code",
   "execution_count": null,
   "metadata": {},
   "outputs": [],
   "source": [
    "rectracks.head()"
   ]
  },
  {
   "cell_type": "markdown",
   "metadata": {},
   "source": [
    "## Score Challenge Submission"
   ]
  },
  {
   "cell_type": "code",
   "execution_count": null,
   "metadata": {},
   "outputs": [],
   "source": [
    "startpid=2000000"
   ]
  },
  {
   "cell_type": "markdown",
   "metadata": {},
   "source": [
    "R-precision is the fraction of correctly recommended tracks in the ground truth playlist as described on [the challenge site](https://www.aicrowd.com/challenges/spotify-million-playlist-dataset-challenge#evaluation)\n",
    "    \n",
    "\n",
    "Use the [r-precesion calculation from the hello_world metrics](https://github.com/jprorama/spotify_recSys_challenge_2018/blob/f33d82715190a20fdbc998c9ff709bcabd62a55e/utils/metrics.py#L26)"
   ]
  },
  {
   "cell_type": "code",
   "execution_count": null,
   "metadata": {},
   "outputs": [],
   "source": [
    "def get_r_precision(answer, cand):\n",
    "    set_answer = set(answer)\n",
    "    r = len(set_answer&set(cand[:len(set_answer)])) / len(set_answer)\n",
    "    return r\n",
    "\n",
    "def get_ndcg(answer, cand):\n",
    "    cand_len = len(cand) \n",
    "    idcg=0\n",
    "    dcg=0\n",
    "    \n",
    "    #print(\"cand len {}\".format(cand_len))\n",
    "    #print(\"ans len {}\".format(len(answer)))\n",
    "    #print(\"cand: {}\".format(cand))\n",
    "    \n",
    "    for i in range(cand_len):\n",
    "        #print(\"i {}\".format(i))\n",
    "        #print(\"cand {}\".format(cand[i]))\n",
    "        if cand[i] in answer: \n",
    "            dcg += (1/math.log(i+1+1,2))\n",
    "\n",
    "    for i in range(len(set(answer))):\n",
    "        idcg += (1/math.log(i+1+1,2))\n",
    "    \n",
    "    return dcg/idcg"
   ]
  },
  {
   "cell_type": "code",
   "execution_count": null,
   "metadata": {},
   "outputs": [],
   "source": [
    "realtracks=pd.DataFrame()\n",
    "rprec_sum = 0.0\n",
    "ndcg_sum = 0.0\n",
    "rprec_match = 0\n",
    "ndcg_match = 0\n",
    "\n",
    "for i in range(len(noholdout)):\n",
    "    pid = startpid + i\n",
    "    #print(\"pid={}\".format(pid))\n",
    "    gttracks = [track[\"track_uri\"] for track in noholdout[noholdout[\"challenge_pid\"]==pid].tracks.to_list()[0]]\n",
    "    candtracks = rectracks.loc[pid].to_list()\n",
    "    rprec = get_r_precision(gttracks, candtracks)\n",
    "    rprec_sum = rprec_sum + rprec\n",
    "    if rprec > 0:\n",
    "        rprec_match += 1\n",
    "    ndcg = get_ndcg(gttracks, candtracks)\n",
    "    ndcg_sum = ndcg_sum + ndcg\n",
    "    if ndcg > 0:\n",
    "        ndcg_match += 1\n",
    "    \n",
    "print(\"rprec = {}\".format(rprec_sum/len(noholdout)))\n",
    "print(\"ndcg = {}\".format(ndcg_sum/len(noholdout)))\n",
    "print(\"rprec_match = {}\".format(rprec_match))\n",
    "print(\"ndcg_match = {}\".format(ndcg_match))"
   ]
  },
  {
   "cell_type": "code",
   "execution_count": null,
   "metadata": {},
   "outputs": [],
   "source": [
    "def score_set(answer, candidates):\n",
    "    rprec_sum = 0.0\n",
    "    ndcg_sum = 0.0\n",
    "    rprec_match = 0\n",
    "    ndcg_match = 0\n",
    "\n",
    "    scores = dict()\n",
    "\n",
    "    for pid in answer.challenge_pid:\n",
    "        #pid = startpid + i\n",
    "        #print(\"pid={}\".format(pid))\n",
    "        gttracks = [track[\"track_uri\"] for track in answer[answer[\"challenge_pid\"]==pid].tracks.to_list()[0]]\n",
    "        candtracks = candidates.loc[pid].to_list()\n",
    "        rprec = get_r_precision(gttracks, candtracks)\n",
    "        rprec_sum = rprec_sum + rprec\n",
    "        if rprec > 0:\n",
    "            rprec_match += 1\n",
    "        ndcg = get_ndcg(gttracks, candtracks)\n",
    "        ndcg_sum = ndcg_sum + ndcg\n",
    "        if ndcg > 0:\n",
    "            ndcg_match += 1\n",
    "        \n",
    "    scores[\"rprec\"] = rprec_sum/len(answer)\n",
    "    scores[\"rprec_match\"] = rprec_match\n",
    "    scores[\"ndcg\"] = ndcg_sum/len(answer)\n",
    "    scores[\"ndcg_match\"] = ndcg_match\n",
    "        \n",
    "    return scores"
   ]
  },
  {
   "cell_type": "code",
   "execution_count": null,
   "metadata": {},
   "outputs": [],
   "source": [
    "rprec_sum = 0.0\n",
    "ndcg_sum = 0.0\n",
    "rprec_match = 0\n",
    "ndcg_match = 0\n",
    "\n",
    "scores = dict()\n",
    "\n",
    "for task in noholdout.task_name.drop_duplicates():\n",
    "\n",
    "    scores[task] = score_set(noholdout[noholdout[\"task_name\"]==task], rectracks)\n",
    "    \n",
    "    rprec_sum += scores[task][\"rprec\"]\n",
    "    rprec_match += scores[task][\"rprec_match\"]\n",
    "    ndcg_sum += scores[task][\"ndcg\"]\n",
    "    ndcg_match += scores[task][\"ndcg_match\"]\n",
    "    \n",
    "    \n",
    "    print(\"task: {}\".format(task))\n",
    "    print(\"rprec = {}\".format(scores[task][\"rprec\"]))\n",
    "    print(\"ndcg = {}\".format(scores[task][\"ndcg\"]))\n",
    "    print(\"rprec_match = {}\".format(scores[task][\"rprec_match\"]))\n",
    "    print(\"ndcg_match = {}\".format(scores[task][\"ndcg_match\"]))\n",
    "    print(\"\\n\")\n",
    "\n",
    "scores[\"total\"] = dict()\n",
    "scores[\"total\"][\"rprec\"] = rprec_sum/10\n",
    "scores[\"total\"][\"rprec_match\"] = rprec_match\n",
    "scores[\"total\"][\"ndcg\"] = ndcg_sum/10\n",
    "scores[\"total\"][\"ndcg_match\"] = ndcg_match\n",
    "\n",
    "print(\"task: {}\".format(\"total\"))\n",
    "print(\"rprec = {}\".format(scores[\"total\"][\"rprec\"]))\n",
    "print(\"ndcg = {}\".format(scores[\"total\"][\"ndcg\"]))\n",
    "print(\"rprec_match = {}\".format(scores[\"total\"][\"rprec_match\"]))\n",
    "print(\"ndcg_match = {}\".format(scores[\"total\"][\"ndcg_match\"]))\n",
    "print(\"\\n\")"
   ]
  },
  {
   "cell_type": "code",
   "execution_count": null,
   "metadata": {},
   "outputs": [],
   "source": [
    "noholdout2"
   ]
  },
  {
   "cell_type": "code",
   "execution_count": null,
   "metadata": {},
   "outputs": [],
   "source": [
    "def score_setdf(answer, candidate):\n",
    "\n",
    "    rprec_sum = 0.0\n",
    "    ndcg_sum = 0.0\n",
    "    rprec_match = 0\n",
    "    ndcg_match = 0\n",
    "\n",
    "    results = answer.copy()\n",
    "\n",
    "    #results[\"candidates\"] = \n",
    "    results[\"rprec\"] = 0\n",
    "    #results[\"rprec_alt\"] = 0\n",
    "    results[\"ndcg\"] = 0\n",
    "\n",
    "    for pid in results.challenge_pid:\n",
    "        #pid = startpid + i\n",
    "        #print(\"pid={}\".format(pid))\n",
    "        gttracks = [track[\"track_uri\"] for track in results[results[\"challenge_pid\"]==pid].tracks.to_list()[0]]\n",
    "        candtracks = rectracks.loc[pid].to_list()\n",
    "        rprec = get_r_precision(gttracks, candtracks)\n",
    "        #if not results[results[\"challenge_pid\"]==pid].random:\n",
    "        #    num_samples=results[results[\"challenge_pid\"]==pid].num_samples\n",
    "        #    rprec_alt =  get_r_precision(gttracks[num_samples:], candtracks)\n",
    "        rprec_sum = rprec_sum + rprec\n",
    "        if rprec > 0:\n",
    "            rprec_match += 1\n",
    "        ndcg = get_ndcg(gttracks, candtracks)\n",
    "        ndcg_sum = ndcg_sum + ndcg\n",
    "        if ndcg > 0:\n",
    "            ndcg_match += 1\n",
    "\n",
    "        #results.at[results[\"challenge_pid\"]==pid, \"candidates\"] = candtracks\n",
    "        results.at[results[\"challenge_pid\"]==pid, \"rprec\"] = rprec\n",
    "        #results.at[results[\"challenge_pid\"]==pid, \"rprec_alt\"] = rprec_alt\n",
    "        results.at[results[\"challenge_pid\"]==pid, \"ndcg\"] = ndcg\n",
    "        \n",
    "    return results\n"
   ]
  },
  {
   "cell_type": "markdown",
   "metadata": {},
   "source": [
    "submissions[4:6]"
   ]
  },
  {
   "cell_type": "markdown",
   "metadata": {},
   "source": [
    "noholdout2[noholdout2[\"challenge_pid\"]==0].random"
   ]
  },
  {
   "cell_type": "code",
   "execution_count": null,
   "metadata": {},
   "outputs": [],
   "source": [
    "%%time\n",
    "\n",
    "rlist=[]\n",
    "results = pd.DataFrame()\n",
    "tmpdf = pd.DataFrame()\n",
    "\n",
    "for submission in submissions:\n",
    "    print(\"submission: {}\".format(submission))\n",
    "    print(\"file: {}\".format(submission[\"file\"]))\n",
    "    \n",
    "    cachefile=submission[\"dir\"]+\"cache/scored-pickle-\"+submission[\"file\"]\n",
    "\n",
    "    start_time = time.time()    \n",
    "    if (os.path.isfile(cachefile)):\n",
    "        tmpdf = pd.read_pickle(cachefile)\n",
    "        print(\"score read cache: {} sec\".format(time.time()-start_time))\n",
    "    else:\n",
    "        start_time = time.time()\n",
    "        rectracks=pd.read_csv('{}/{}'.format(submission[\"dir\"], submission[\"file\"]), header=None, skiprows=1, index_col=0, skipinitialspace=True)\n",
    "        print(\"load time: {} sec\".format(time.time()-start_time))\n",
    "\n",
    "        #if (\"full\" in submission[\"tag\"]):\n",
    "        if (submission[\"challenge\"]==\"mympd-full\"):\n",
    "            print(\"scored with noholdout2\")\n",
    "            tmpdf = score_setdf(noholdout2, rectracks)\n",
    "        else:    \n",
    "            print(\"scored with noholdout\")\n",
    "            tmpdf = score_setdf(noholdout, rectracks)\n",
    "        print(\"score time: {} sec\".format(time.time()-start_time))\n",
    "\n",
    "        tmpdf[\"trainsizek\"]=submission[\"trainsizek\"]\n",
    "\n",
    "        tmpdf.to_pickle(cachefile)\n",
    "\n",
    "    print(\"tmpdf len: {}\".format(len(tmpdf)))\n",
    "    #tmpdf[\"trainsizek\"]=submission[\"trainsizek\"]\n",
    "    tmpdf[\"tag\"]=submission[\"tag\"]\n",
    "    tmpdf[\"method\"]=submission[\"method\"]\n",
    "    rlist.append(tmpdf)\n",
    "    \n",
    "results=pd.concat(rlist)\n",
    "results.reset_index(drop=True, inplace=True)\n",
    "del rlist"
   ]
  },
  {
   "cell_type": "markdown",
   "metadata": {},
   "source": [
    "### Summarize total peformance"
   ]
  },
  {
   "cell_type": "code",
   "execution_count": null,
   "metadata": {},
   "outputs": [],
   "source": [
    "results[results[\"method\"]==\"mfals\"]"
   ]
  },
  {
   "cell_type": "code",
   "execution_count": null,
   "metadata": {},
   "outputs": [],
   "source": [
    "results.groupby([\"method\", \"trainsizek\"]).rprec.mean().reindex()"
   ]
  },
  {
   "cell_type": "code",
   "execution_count": null,
   "metadata": {},
   "outputs": [],
   "source": [
    "results.groupby([\"tag\", \"trainsizek\"]).ndcg.mean()"
   ]
  },
  {
   "cell_type": "code",
   "execution_count": null,
   "metadata": {},
   "outputs": [],
   "source": [
    "scaleout=results[~results[\"tag\"].isin([\"vl6\", \"hw\", \"u2uknn\", \"i2iknn\", \"mfals\"])]"
   ]
  },
  {
   "cell_type": "code",
   "execution_count": null,
   "metadata": {},
   "outputs": [],
   "source": [
    "scaleout"
   ]
  },
  {
   "cell_type": "code",
   "execution_count": null,
   "metadata": {},
   "outputs": [],
   "source": [
    "scaleout.rename(columns={\"trainsizek\": \"trainsize\"}, inplace=True)"
   ]
  },
  {
   "cell_type": "code",
   "execution_count": null,
   "metadata": {},
   "outputs": [],
   "source": [
    "scaleout[[\"method\", \"trainsize\", \"ignore\"]] = scaleout[\"tag\"].str.split(r\"-(.+)k\", expand=True)"
   ]
  },
  {
   "cell_type": "code",
   "execution_count": null,
   "metadata": {},
   "outputs": [],
   "source": [
    "scaleout.drop(columns=[\"ignore\"], inplace=True)"
   ]
  },
  {
   "cell_type": "code",
   "execution_count": null,
   "metadata": {},
   "outputs": [],
   "source": [
    "scaleout[\"trainsize\"]=pd.to_numeric(scaleout[\"trainsize\"])"
   ]
  },
  {
   "cell_type": "code",
   "execution_count": null,
   "metadata": {},
   "outputs": [],
   "source": [
    "scaleout[[\"tag\",\"task_name\", \"trainsize\", \"method\", \"rprec\", \"ndcg\"]]"
   ]
  },
  {
   "cell_type": "code",
   "execution_count": null,
   "metadata": {},
   "outputs": [],
   "source": [
    "means = scaleout.groupby([\"tag\", \"task_name\", \"trainsize\", \"method\"], sort=False).mean().reset_index()"
   ]
  },
  {
   "cell_type": "code",
   "execution_count": null,
   "metadata": {},
   "outputs": [],
   "source": [
    "scaleout[\"trainsize\"]=pd.to_numeric(scaleout[\"trainsize\"])"
   ]
  },
  {
   "cell_type": "code",
   "execution_count": null,
   "metadata": {},
   "outputs": [],
   "source": [
    "means = scaleout.groupby([\"tag\", \"task_name\", \"trainsize\"], sort=False).mean().reset_index()"
   ]
  },
  {
   "cell_type": "code",
   "execution_count": null,
   "metadata": {},
   "outputs": [],
   "source": [
    "means"
   ]
  },
  {
   "cell_type": "code",
   "execution_count": null,
   "metadata": {},
   "outputs": [],
   "source": [
    "means[(means.method == \"mfalsfull\") & (means.task_name == \"first_5_title\")][[\"method\",\"task_name\",\"trainsize\",\"rprec\"]]                                    "
   ]
  },
  {
   "cell_type": "code",
   "execution_count": null,
   "metadata": {},
   "outputs": [],
   "source": [
    "sns.catplot(x = \"task_name\",       # x variable name\n",
    "            y = \"rprec\",       # y variable name\n",
    "            hue = \"tag\",  # group variable name\n",
    "            data = means,     # dataframe to plot\n",
    "            kind = \"bar\",\n",
    "            aspect = 2)\n",
    "ignore=plt.xticks(rotation=45)\n",
    "ignore=plt.title(\"R-Precision Compared\")"
   ]
  },
  {
   "cell_type": "code",
   "execution_count": null,
   "metadata": {},
   "outputs": [],
   "source": [
    "sns.catplot(x = \"task_name\",       # x variable name\n",
    "            y = \"ndcg\",       # y variable name\n",
    "            hue = \"tag\",  # group variable name\n",
    "            data = means,     # dataframe to plot\n",
    "            kind = \"bar\",\n",
    "            aspect = 2)\n",
    "ignore=plt.xticks(rotation=45)\n",
    "ignore=plt.title(\"NDCG Compared\")"
   ]
  },
  {
   "cell_type": "code",
   "execution_count": null,
   "metadata": {},
   "outputs": [],
   "source": [
    "means[(means[\"method\"]==\"u2uknnfull\") & (means[\"task_name\"]==\"rand_100_title\")]"
   ]
  },
  {
   "cell_type": "code",
   "execution_count": null,
   "metadata": {},
   "outputs": [],
   "source": [
    "g = sns.FacetGrid(means, col=\"task_name\", hue=\"tag\", col_wrap=4, sharex=False, margin_titles=True, \n",
    "                  height=6, aspect=.75,\n",
    "                  col_order=[\"first_5_title\", \"first_5_wo_title\", \"first_10_title\", \"first_10_wo_title\",\n",
    "                            \"first_25_title\", \"first_100_title\", \"rand_25_title\", \"rand_100_title\",\n",
    "                            \"first_1_title\", \"title_only\"])\n",
    "g.map(sns.lineplot, \"trainsize\", \"rprec\", marker=\"o\", legend=\"full\", linewidth = 4)\n",
    "g.add_legend()\n",
    "g.set_titles(col_template=\"{col_name}\")\n",
    "#g.set(xscale=\"log\")"
   ]
  },
  {
   "cell_type": "code",
   "execution_count": null,
   "metadata": {},
   "outputs": [],
   "source": [
    "g = sns.FacetGrid(means, col=\"task_name\", hue=\"method\", col_wrap=4, sharex=False, margin_titles=True, \n",
    "                  height=6, aspect=.75,\n",
    "                  col_order=[\"first_5_title\", \"first_5_wo_title\", \"first_10_title\", \"first_10_wo_title\",\n",
    "                            \"first_25_title\", \"first_100_title\", \"rand_25_title\", \"rand_100_title\",\n",
    "                            \"first_1_title\", \"title_only\"])\n",
    "g.map(sns.lineplot, \"trainsize\", \"rprec\", marker=\"o\", legend=\"full\", linewidth = 4)\n",
    "g.add_legend()\n",
    "g.set_titles(col_template=\"{col_name}\")\n",
    "#g.set(xscale=\"log\")"
   ]
  },
  {
   "cell_type": "code",
   "execution_count": null,
   "metadata": {},
   "outputs": [],
   "source": [
    "sns.catplot(x = \"task_name\",       # x variable name\n",
    "            y = \"rprec\",       # y variable name\n",
    "            hue = \"tag\",  # group variable name\n",
    "            data = means,     # dataframe to plot\n",
    "            kind = \"bar\",\n",
    "            aspect = 2)\n",
    "ignore=plt.xticks(rotation=45)\n",
    "ignore=plt.title(\"R-Precision Compared\")"
   ]
  },
  {
   "cell_type": "code",
   "execution_count": null,
   "metadata": {},
   "outputs": [],
   "source": [
    "g = sns.FacetGrid(means, col=\"task_name\", hue=\"tag\", col_wrap=4, sharex=False, margin_titles=True, \n",
    "                  height=6, aspect=.75,\n",
    "                  col_order=[\"first_5_title\", \"first_5_wo_title\", \"first_10_title\", \"first_10_wo_title\",\n",
    "                            \"first_25_title\", \"first_100_title\", \"rand_25_title\", \"rand_100_title\",\n",
    "                            \"first_1_title\", \"title_only\"])\n",
    "g.map(sns.lineplot, \"trainsize\", \"ndcg\", marker=\"o\", legend=\"full\", linewidth = 4)\n",
    "g.add_legend()\n",
    "g.set_titles(col_template=\"{col_name}\")\n",
    "#g.set(xscale=\"log\")"
   ]
  },
  {
   "cell_type": "markdown",
   "metadata": {},
   "source": [
    "Remove rand100 which is the task which most significantly differentiates method performance."
   ]
  },
  {
   "cell_type": "code",
   "execution_count": null,
   "metadata": {},
   "outputs": [],
   "source": [
    "results[results.task_name!=\"rand_100_title\"].groupby([\"tag\"]).rprec.mean()"
   ]
  },
  {
   "cell_type": "code",
   "execution_count": null,
   "metadata": {},
   "outputs": [],
   "source": [
    "results[results.task_name!=\"rand_100_title\"].groupby([\"tag\"]).ndcg.mean()"
   ]
  },
  {
   "cell_type": "code",
   "execution_count": null,
   "metadata": {},
   "outputs": [],
   "source": [
    "means"
   ]
  },
  {
   "cell_type": "code",
   "execution_count": null,
   "metadata": {},
   "outputs": [],
   "source": [
    "g = sns.FacetGrid(results, row=\"task_name\", col=\"tag\", hue=\"tag\", margin_titles=True, height=3, aspect=4)\n",
    "g.map(sns.violinplot, \"tag\", \"rprec\", palette=\"muted\", inner=\"quart\", cut=0, orient='v', scale='count')"
   ]
  },
  {
   "cell_type": "code",
   "execution_count": null,
   "metadata": {},
   "outputs": [],
   "source": [
    "nodup = results[results[\"tag\"]==\"vl6\"].drop_duplicates(subset=\"pid\")"
   ]
  },
  {
   "cell_type": "code",
   "execution_count": null,
   "metadata": {},
   "outputs": [],
   "source": [
    "nodup = nodup.append(results[results[\"tag\"]==\"hw\"].drop_duplicates(subset=\"pid\"))"
   ]
  },
  {
   "cell_type": "code",
   "execution_count": null,
   "metadata": {},
   "outputs": [],
   "source": [
    "nodup = nodup.append(results[results[\"tag\"]==\"u2uknnfull-20k\"].drop_duplicates(subset=\"pid\"))\n",
    "nodup = nodup.append(results[results[\"tag\"]==\"u2uknnfull-40k\"].drop_duplicates(subset=\"pid\"))\n",
    "nodup = nodup.append(results[results[\"tag\"]==\"u2uknnfull-60k\"].drop_duplicates(subset=\"pid\"))\n",
    "nodup = nodup.append(results[results[\"tag\"]==\"u2uknnfull-80k\"].drop_duplicates(subset=\"pid\"))\n",
    "nodup = nodup.append(results[results[\"tag\"]==\"u2uknnfull-100k\"].drop_duplicates(subset=\"pid\"))\n",
    "\n",
    "nodup = nodup.append(results[results[\"tag\"]==\"i2iknnfull-20k\"].drop_duplicates(subset=\"pid\"))\n",
    "nodup = nodup.append(results[results[\"tag\"]==\"i2iknnfull-40k\"].drop_duplicates(subset=\"pid\"))\n",
    "nodup = nodup.append(results[results[\"tag\"]==\"i2iknnfull-60k\"].drop_duplicates(subset=\"pid\"))\n",
    "nodup = nodup.append(results[results[\"tag\"]==\"i2iknnfull-80k\"].drop_duplicates(subset=\"pid\"))\n",
    "nodup = nodup.append(results[results[\"tag\"]==\"i2iknnfull-100k\"].drop_duplicates(subset=\"pid\"))\n",
    "\n",
    "nodup = nodup.append(results[results[\"tag\"]==\"mfalsfull-20k\"].drop_duplicates(subset=\"pid\"))\n",
    "nodup = nodup.append(results[results[\"tag\"]==\"mfalsfull-40k\"].drop_duplicates(subset=\"pid\"))\n",
    "nodup = nodup.append(results[results[\"tag\"]==\"mfalsfull-60k\"].drop_duplicates(subset=\"pid\"))\n",
    "nodup = nodup.append(results[results[\"tag\"]==\"mfalsfull-80k\"].drop_duplicates(subset=\"pid\"))\n",
    "nodup = nodup.append(results[results[\"tag\"]==\"mfalsfull-100k\"].drop_duplicates(subset=\"pid\"))\n"
   ]
  },
  {
   "cell_type": "code",
   "execution_count": null,
   "metadata": {},
   "outputs": [],
   "source": [
    "nodup = nodup.append(results[results[\"tag\"]==\"i2iknn\"].drop_duplicates(subset=\"pid\"))"
   ]
  },
  {
   "cell_type": "code",
   "execution_count": null,
   "metadata": {},
   "outputs": [],
   "source": [
    "nodup = nodup.append(results[results[\"tag\"]==\"mfals\"].drop_duplicates(subset=\"pid\"))"
   ]
  },
  {
   "cell_type": "code",
   "execution_count": null,
   "metadata": {},
   "outputs": [],
   "source": [
    "nodup.groupby([\"tag\", \"task_name\"]).rprec.mean()"
   ]
  },
  {
   "cell_type": "code",
   "execution_count": null,
   "metadata": {},
   "outputs": [],
   "source": [
    "means= nodup.groupby([\"tag\", \"task_name\"]).rprec.mean()"
   ]
  },
  {
   "cell_type": "code",
   "execution_count": null,
   "metadata": {},
   "outputs": [],
   "source": [
    "\n",
    "ax=means.vl6.plot.bar(legend=True, color=\"blue\", alpha=.35)\n",
    "means.hw.plot.bar(ax=ax,legend=True, color=\"red\", alpha=0.35)\n",
    "means.u2uknn.plot.bar(ax=ax,legend=True, color=\"purple\", alpha=0.35)"
   ]
  },
  {
   "cell_type": "markdown",
   "metadata": {},
   "source": [
    "Create means as dataframe rather than groupby object by using the aggregator on the groupby object rather than the series of rprec column alone.  This keeps the column names and should simplify plotting.\n",
    "\n",
    "https://pandas.pydata.org/pandas-docs/stable/user_guide/groupby.html"
   ]
  },
  {
   "cell_type": "code",
   "execution_count": null,
   "metadata": {},
   "outputs": [],
   "source": [
    "means = nodup[[\"tag\", \"task_name\",\"rprec\"]].groupby([\"tag\", \"task_name\"], sort=False).mean().reset_index()"
   ]
  },
  {
   "cell_type": "code",
   "execution_count": null,
   "metadata": {},
   "outputs": [],
   "source": [
    "sns.catplot(x = \"task_name\",       # x variable name\n",
    "            y = \"rprec\",       # y variable name\n",
    "            hue = \"tag\",  # group variable name\n",
    "            data = means,     # dataframe to plot\n",
    "            kind = \"bar\",\n",
    "            aspect = 2)\n",
    "ignore=plt.xticks(rotation=45)\n",
    "ignore=plt.title(\"R-Precision Compared\")"
   ]
  },
  {
   "cell_type": "code",
   "execution_count": null,
   "metadata": {},
   "outputs": [],
   "source": [
    "means = nodup[[\"tag\", \"task_name\",\"ndcg\"]].groupby([\"tag\", \"task_name\"], sort=False).mean().reset_index()"
   ]
  },
  {
   "cell_type": "code",
   "execution_count": null,
   "metadata": {},
   "outputs": [],
   "source": [
    "sns.catplot(x = \"task_name\",       # x variable name\n",
    "            y = \"ndcg\",       # y variable name\n",
    "            hue = \"tag\",  # group variable name\n",
    "            data = means,     # dataframe to plot\n",
    "            kind = \"bar\",\n",
    "            aspect = 2)\n",
    "ignore=plt.xticks(rotation=45)\n",
    "ignore=plt.title(\"NDCG Compared\")"
   ]
  },
  {
   "cell_type": "code",
   "execution_count": null,
   "metadata": {},
   "outputs": [],
   "source": [
    "scaling=results[results[\"tag\"]in [\"v]"
   ]
  },
  {
   "cell_type": "code",
   "execution_count": null,
   "metadata": {},
   "outputs": [],
   "source": [
    "nodup[[\"tag\", \"task_name\",\"ndcg\"]].groupby([\"tag\", \"task_name\"], sort=False).mean().reset_index()"
   ]
  },
  {
   "cell_type": "code",
   "execution_count": null,
   "metadata": {},
   "outputs": [],
   "source": [
    "sns.lineplot(x = \"task_name\",       # x variable name\n",
    "            y = \"rprec\",       # y variable name\n",
    "            hue = \"tag\",  # group variable name\n",
    "            data = means,     # dataframe to plot\n",
    "            kind = \"bar\",\n",
    "            aspect = 2)\n",
    "ignore=plt.xticks(rotation=45)\n",
    "ignore=plt.title(\"R-Precision Compared\")"
   ]
  },
  {
   "cell_type": "markdown",
   "metadata": {},
   "source": [
    "## Explore Violin plot\n",
    "\n",
    "start with the routine used during the recsys18 analysis"
   ]
  },
  {
   "cell_type": "code",
   "execution_count": null,
   "metadata": {},
   "outputs": [],
   "source": [
    "def plot_violin(df, title=\"Violin Plot\"):\n",
    "    #sns.set_style(\"white\") \n",
    "    sns.set(rc={'figure.figsize':(8,6)})\n",
    "    g = sns.violinplot(data=df, cut=0, orient='v', scale='width')\n",
    "    #g = sns.violinplot(x=df.iloc[,0], y=df.iloc[0,:], cut=0, scale='width')\n",
    "    g.set_title(title)\n",
    "    #g.set_xlabel(\"Subtask\")\n",
    "    g.set_ylabel(\"Score\")\n",
    "    g.set_xticklabels(g.get_xticklabels(), rotation=90)\n",
    "\n",
    "    return g"
   ]
  },
  {
   "cell_type": "code",
   "execution_count": null,
   "metadata": {},
   "outputs": [],
   "source": [
    "nodup.groupby([\"tag\", \"task_name\"]).rprec.describe().T"
   ]
  },
  {
   "cell_type": "markdown",
   "metadata": {},
   "source": [
    "Don't need the describe data because that will come from the violin plot.  Just need to use all the raw data points."
   ]
  },
  {
   "cell_type": "code",
   "execution_count": null,
   "metadata": {},
   "outputs": [],
   "source": [
    "vl6desc = nodup[nodup[\"tag\"]==\"vl6\"][[\"task_name\", \"rprec\"]] #.groupby([\"task_name\"]).mean()"
   ]
  },
  {
   "cell_type": "code",
   "execution_count": null,
   "metadata": {},
   "outputs": [],
   "source": [
    "hwdesc = nodup[nodup[\"tag\"]==\"hw\"][[\"task_name\", \"rprec\"]]"
   ]
  },
  {
   "cell_type": "code",
   "execution_count": null,
   "metadata": {},
   "outputs": [],
   "source": [
    "plot_violin(vl6desc[vl6desc[\"task_name\"]==\"rand_100_title\"], \"rand_100_title\")"
   ]
  },
  {
   "cell_type": "code",
   "execution_count": null,
   "metadata": {},
   "outputs": [],
   "source": [
    "plot_violin(hwdesc[hwdesc[\"task_name\"]==\"rand_100_title\"], \"rand_100_title\")"
   ]
  },
  {
   "cell_type": "markdown",
   "metadata": {},
   "source": [
    "## Explore side-by-side plots\n",
    "\n",
    "What to take all the tasks and see the teams side by side\n",
    "\n",
    "Create violin plots for each task. https://stackoverflow.com/a/47487445/8928529\n",
    "\n",
    "Basically loop through the tasks and plot on each subplot axis."
   ]
  },
  {
   "cell_type": "code",
   "execution_count": null,
   "metadata": {},
   "outputs": [],
   "source": [
    "fig, axes = plt.subplots(10, 2, figsize=(20, 32), sharey='row')\n",
    "axes_cols = (axes.flatten()[::2], axes.flatten()[1::2])\n",
    "\n",
    "i=0\n",
    "for task in vl6desc.task_name.drop_duplicates():\n",
    "    \n",
    "    ax=axes_cols[0][i]\n",
    "    sns.violinplot(data=vl6desc[vl6desc[\"task_name\"]==task], cut=0, orient='v', scale='width', ax=ax)\n",
    "    ax.set_title('task = {}'.format(task), y=0.95)\n",
    "    ax=axes_cols[1][i]\n",
    "    sns.violinplot(data=hwdesc[hwdesc[\"task_name\"]==task], cut=0, orient='v', scale='width', ax=ax)\n",
    "    ax.set_title('task = {}'.format(task), y=0.95)\n",
    "    \n",
    "    \n",
    "    i += 1"
   ]
  },
  {
   "cell_type": "markdown",
   "metadata": {},
   "source": [
    "## Explore split plot\n",
    "\n",
    "This lets me see the data paired directly and allows easier visual comparison of differences.\n",
    "\n",
    "The test rand_100_title task shows clear differences."
   ]
  },
  {
   "cell_type": "code",
   "execution_count": null,
   "metadata": {},
   "outputs": [],
   "source": [
    "data = nodup[((nodup[\"tag\"]==\"vl6\") | (nodup[\"tag\"]==\"hw\"))][[\"tag\",\"task_name\", \"rprec\"]]"
   ]
  },
  {
   "cell_type": "code",
   "execution_count": null,
   "metadata": {},
   "outputs": [],
   "source": [
    "sns.violinplot(data=data[data[\"task_name\"]==\"rand_100_title\"], cut=0, orient='v', scale='width',\n",
    "               x=\"task_name\", y=\"rprec\",\n",
    "               hue=\"tag\",\n",
    "               split=True, inner=\"quart\")\n",
    "\n",
    "#sns.despine(left=True)"
   ]
  },
  {
   "cell_type": "code",
   "execution_count": null,
   "metadata": {},
   "outputs": [],
   "source": [
    "rprec_data = nodup[((nodup[\"tag\"]==\"vl6\") | (nodup[\"tag\"]==\"hw\"))][[\"tag\",\"task_name\", \"rprec\"]]\n",
    "ndcg_data  = nodup[((nodup[\"tag\"]==\"vl6\") | (nodup[\"tag\"]==\"hw\"))][[\"tag\",\"task_name\", \"ndcg\"]]"
   ]
  },
  {
   "cell_type": "code",
   "execution_count": null,
   "metadata": {},
   "outputs": [],
   "source": [
    "fig, axes = plt.subplots(10, 2, figsize=(20, 32), sharey='row')\n",
    "axes_cols = (axes.flatten()[::2], axes.flatten()[1::2])\n",
    "\n",
    "i=0\n",
    "for task in vl6desc.task_name.drop_duplicates():\n",
    "    \n",
    "    ax=axes_cols[0][i]\n",
    "    sns.violinplot(data=rprec_data[rprec_data[\"task_name\"]==task], cut=0, orient='v', scale='width',\n",
    "               x=\"task_name\", y=\"rprec\",\n",
    "               hue=\"tag\",\n",
    "               split=True, inner=\"quart\", ax=ax)\n",
    "    ax.set_title('task = {}'.format(task), y=0.95)\n",
    "\n",
    "    ax=axes_cols[1][i]\n",
    "    sns.violinplot(data=ndcg_data[ndcg_data[\"task_name\"]==task], cut=0, orient='v', scale='width',\n",
    "               x=\"task_name\", y=\"ndcg\",\n",
    "               hue=\"tag\",\n",
    "               split=True, inner=\"quart\", ax=ax)\n",
    "    ax.set_title('task = {}'.format(task), y=0.95)\n",
    "    \n",
    "    \n",
    "    i += 1"
   ]
  },
  {
   "cell_type": "markdown",
   "metadata": {},
   "source": [
    "With the rprec and ndcg data plotted side by side it is clear that the rand_100_title was much more effectively solved by vl6.\n",
    "\n",
    "The second most effective was first_1_title where vl6 had higher mean.\n",
    "\n",
    "However the the title_only solution of hw is clearly better.\n",
    "\n",
    "All the rest of the tasks had nearly identical means and distributions with the hw solution having slightly higher ndcg in those tasks.\n"
   ]
  },
  {
   "cell_type": "code",
   "execution_count": null,
   "metadata": {},
   "outputs": [],
   "source": [
    "task"
   ]
  },
  {
   "cell_type": "code",
   "execution_count": null,
   "metadata": {},
   "outputs": [],
   "source": [
    "rprec_data = nodup[[\"tag\",\"task_name\", \"rprec\"]]\n",
    "ndcg_data  = nodup[[\"tag\",\"task_name\", \"ndcg\"]]"
   ]
  },
  {
   "cell_type": "code",
   "execution_count": null,
   "metadata": {},
   "outputs": [],
   "source": [
    "rprec_data=rprec_data.reset_index().rename(columns={\"index\": \"pid\"})"
   ]
  },
  {
   "cell_type": "code",
   "execution_count": null,
   "metadata": {},
   "outputs": [],
   "source": [
    "rprec_data[((rprec_data[\"tag\"]==\"vl6\") & (rprec_data[\"task_name\"]==\"first_1_title\"))]"
   ]
  },
  {
   "cell_type": "code",
   "execution_count": null,
   "metadata": {},
   "outputs": [],
   "source": [
    "sns.scatterplot(data=rprec_data[((rprec_data[\"tag\"]==\"vl6\") & (rprec_data[\"task_name\"]==\"first_1_title\"))], x='pid', y=\"rprec\")"
   ]
  },
  {
   "cell_type": "code",
   "execution_count": null,
   "metadata": {},
   "outputs": [],
   "source": [
    "sns.scatterplot(data=rprec_data[((rprec_data[\"tag\"]==\"hw\") & (rprec_data[\"task_name\"]==\"first_1_title\"))], x='pid', y=\"rprec\")"
   ]
  },
  {
   "cell_type": "code",
   "execution_count": null,
   "metadata": {},
   "outputs": [],
   "source": [
    "sns.scatterplot(data=rprec_data[((rprec_data[\"tag\"]==\"vl6\"))], x=\"pid\", y=\"rprec\", hue=\"tag\", alpha=.5)\n",
    "#sns.scatterplot(data=rprec_data[((rprec_data[\"tag\"]==\"hw\"))], y=\"rprec\", hue=\"tag\", alpha=.5, )"
   ]
  },
  {
   "cell_type": "code",
   "execution_count": null,
   "metadata": {},
   "outputs": [],
   "source": [
    "sns.scatterplot(data=rprec_data, x=\"pid\", y=\"rprec\", hue=\"tag\", alpha=0.4)"
   ]
  },
  {
   "cell_type": "markdown",
   "metadata": {},
   "source": [
    "It's much easier to get fast insight from seaborn using facet grids since they are built right from the data.\n",
    "\n",
    "https://seaborn.pydata.org/tutorial/axis_grids.html"
   ]
  },
  {
   "cell_type": "code",
   "execution_count": null,
   "metadata": {},
   "outputs": [],
   "source": [
    "g = sns.FacetGrid(rprec_data, row=\"task_name\", col=\"tag\", hue=\"tag\", margin_titles=True, height=4, aspect=2)\n",
    "g.map(sns.scatterplot, \"pid\", \"rprec\", linewidth = 0)"
   ]
  },
  {
   "cell_type": "code",
   "execution_count": null,
   "metadata": {},
   "outputs": [],
   "source": [
    "rprec_data[\"rpid\"]= rprec_data.pid % 1000"
   ]
  },
  {
   "cell_type": "code",
   "execution_count": null,
   "metadata": {},
   "outputs": [],
   "source": [
    "g = sns.FacetGrid(rprec_data, row=\"task_name\", col=\"tag\", hue=\"tag\", margin_titles=True, height=3, aspect=2)\n",
    "g.map(sns.scatterplot, \"rpid\", \"rprec\", linewidth = 0)"
   ]
  },
  {
   "cell_type": "markdown",
   "metadata": {},
   "source": [
    "Revisit violin distribution plots now with all data."
   ]
  },
  {
   "cell_type": "code",
   "execution_count": null,
   "metadata": {},
   "outputs": [],
   "source": [
    "g = sns.FacetGrid(rprec_data, row=\"task_name\", hue=\"tag\", margin_titles=True, height=3, aspect=4)\n",
    "g.map(sns.violinplot, \"tag\", \"rprec\", order=['vl6', 'hw', 'u2uknn', 'u2uknnfull', 'u2uknnfull-10k', 'u2uknnfull-20k', 'u2uknnfull-30k', 'u2uknnfull-40k', 'u2uknnfull-50k', 'u2uknnfull-60k', 'u2uknnfull-70k', 'u2uknnfull-80k', 'u2uknnfull-90k', 'u2uknnfull-100k', 'i2iknn','mfals'], palette=\"muted\", inner=\"quart\", cut=0, orient='v', scale='count')"
   ]
  },
  {
   "cell_type": "markdown",
   "metadata": {},
   "source": [
    "##  Inspect the highest scoring recommendations\n",
    "\n",
    "Understand which tasks and methods perform the best."
   ]
  },
  {
   "cell_type": "code",
   "execution_count": null,
   "metadata": {},
   "outputs": [],
   "source": [
    "nodup[nodup.rprec > 0.8][[\"rprec\", \"ndcg\", \"tag\",\"task_name\", \"name\", \"num_tracks\"]]"
   ]
  }
 ],
 "metadata": {
  "language_info": {
   "name": "python",
   "pygments_lexer": "ipython3"
  }
 },
 "nbformat": 4,
 "nbformat_minor": 4
}
