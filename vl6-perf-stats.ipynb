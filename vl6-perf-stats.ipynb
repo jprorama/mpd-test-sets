{
 "cells": [
  {
   "cell_type": "code",
   "execution_count": null,
   "metadata": {},
   "outputs": [],
   "source": [
    "import sys\n",
    "import json\n",
    "import re\n",
    "import collections\n",
    "import os\n",
    "import datetime\n",
    "import pandas as pd\n",
    "import numpy as np\n",
    "import math\n",
    "import matplotlib.pyplot as plt\n",
    "import seaborn as sns\n",
    "import time\n",
    "import pickle"
   ]
  },
  {
   "cell_type": "markdown",
   "metadata": {},
   "source": [
    "(mpd2) [jpr@login004 mpd-test-sets]$ for job in `cat tmpjoblist`; do seff $job; done | grep \"Memory Utilized\"\n",
    "Memory Utilized: 159.66 GB\n",
    "Memory Utilized: 159.71 GB\n",
    "Memory Utilized: 181.12 GB\n",
    "Memory Utilized: 170.22 GB\n",
    "Memory Utilized: 198.37 GB\n",
    "Memory Utilized: 202.99 GB\n",
    "Memory Utilized: 204.46 GB\n",
    "Memory Utilized: 226.08 GB\n"
   ]
  },
  {
   "cell_type": "code",
   "execution_count": null,
   "metadata": {},
   "outputs": [],
   "source": [
    "ram = [{200: 159.66}, \n",
    "{300: 159.71},\n",
    "{400: 181.12},\n",
    "{500: 170.22},\n",
    "{600: 198.37},\n",
    "{700: 202.99},\n",
    "{800: 204.46},\n",
    "{900: 226.08}\n",
    "] "
   ]
  },
  {
   "cell_type": "code",
   "execution_count": null,
   "metadata": {},
   "outputs": [],
   "source": [
    "ram = [(200, 159.66), \n",
    "(300, 159.71),\n",
    "(400, 181.12),\n",
    "(500, 170.22),\n",
    "(600, 198.37),\n",
    "(700, 202.99),\n",
    "(800, 204.46),\n",
    "(900, 226.08)\n",
    "] "
   ]
  },
  {
   "cell_type": "code",
   "execution_count": null,
   "metadata": {},
   "outputs": [],
   "source": [
    "ram = {\"trainsize\": [200, 300, 400, 500, 600, 700, 800, 900],\n",
    "         \"ram\": [159.66, 159.71, 181.12, 170.22, 198.37, 202.99, 204.46, 226.08]}\n"
   ]
  },
  {
   "cell_type": "code",
   "execution_count": null,
   "metadata": {},
   "outputs": [],
   "source": [
    "ramdf = pd.DataFrame(ram)"
   ]
  },
  {
   "cell_type": "code",
   "execution_count": null,
   "metadata": {},
   "outputs": [],
   "source": [
    "ramdf"
   ]
  },
  {
   "cell_type": "code",
   "execution_count": null,
   "metadata": {},
   "outputs": [],
   "source": [
    "ramdf.plot(x=\"trainsize\", y=\"ram\")"
   ]
  }
 ],
 "metadata": {
  "language_info": {
   "name": "python",
   "pygments_lexer": "ipython3"
  }
 },
 "nbformat": 4,
 "nbformat_minor": 4
}
